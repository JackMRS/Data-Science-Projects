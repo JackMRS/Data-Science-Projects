{
 "cells": [
  {
   "cell_type": "code",
   "execution_count": 15,
   "metadata": {},
   "outputs": [],
   "source": [
    "import matplotlib.pyplot as plt\n",
    "import pandas as pd\n",
    "import pylab as pl\n",
    "import numpy as np\n",
    "%matplotlib inline"
   ]
  },
  {
   "cell_type": "code",
   "execution_count": 16,
   "metadata": {},
   "outputs": [],
   "source": [
    "wine_df = pd.read_csv(\"winequality-red.csv\", delimiter = \";\")"
   ]
  },
  {
   "cell_type": "code",
   "execution_count": 17,
   "metadata": {},
   "outputs": [],
   "source": [
    "inputs = wine_df.drop(['quality'], axis=1)\n",
    "X = inputs.to_numpy()\n",
    "t = wine_df['quality'].to_numpy()\n",
    "N = wine_df.shape[0]\n",
    "dim = X.shape[1]"
   ]
  },
  {
   "cell_type": "code",
   "execution_count": 18,
   "metadata": {},
   "outputs": [
    {
     "data": {
      "text/plain": [
       "array([ 4.19374044e-03, -1.09974310e+00, -1.84145975e-01,  7.07117376e-03,\n",
       "       -1.91141882e+00,  4.54780885e-03, -3.31855188e-03,  4.52914616e+00,\n",
       "       -5.22898302e-01,  8.87076125e-01,  2.97022815e-01])"
      ]
     },
     "execution_count": 18,
     "metadata": {},
     "output_type": "execute_result"
    }
   ],
   "source": [
    "# W* = (X * X_T )^-1 * X * t   \n",
    "wStar = np.linalg.inv(X.transpose() @ X) @ X.transpose() @ t\n",
    "wStar"
   ]
  },
  {
   "cell_type": "code",
   "execution_count": 32,
   "metadata": {},
   "outputs": [],
   "source": [
    "def err(X, w, t):\n",
    "    return np.linalg.norm(X @ w -t)**2/ N\n",
    "\n",
    "def lms(X, t, iterCount, wStar):\n",
    "    W = []\n",
    "    errr=[]\n",
    "    randLim = np.random.randint(0, N, size = iterCount)\n",
    "    initW = np.zeros(dim)\n",
    "    #initW = np.random.rand(dim)\n",
    "    for n in randLim: \n",
    "        W.append(np.linalg.norm(initW - wStar))\n",
    "        errr.append(err(X, initW, t))\n",
    "        initW = initW + (t[n] - initW @ X[n,:]) * X[n,:] / (np.linalg.norm(X[n,:])**2)\n",
    "    return initW, W, errr"
   ]
  },
  {
   "cell_type": "code",
   "execution_count": 33,
   "metadata": {},
   "outputs": [
    {
     "name": "stdout",
     "output_type": "stream",
     "text": [
      "0.4170492248204845\n",
      "0.5663362351353508\n"
     ]
    },
    {
     "data": {
      "image/png": "[encoded data removed]",
      "text/plain": [
       "<Figure size 432x288 with 1 Axes>"
      ]
     },
     "metadata": {
      "needs_background": "light"
     },
     "output_type": "display_data"
    },
    {
     "name": "stdout",
     "output_type": "stream",
     "text": [
      "Wall time: 4.96 s\n"
     ]
    }
   ],
   "source": [
    "%%time\n",
    "itercount = 100000\n",
    "print(err(X, wStar, t))\n",
    "lmsW, W, errr = lms(X, t, itercount, wStar = wStar)\n",
    "print(err(X, lmsW, t))\n",
    "plt.plot(range(itercount), W)\n",
    "plt.xlabel('Iterations')\n",
    "plt.ylabel(r'$\\||w_{n} - w^{*}\\||$')\n",
    "plt.show()"
   ]
  },
  {
   "cell_type": "code",
   "execution_count": 34,
   "metadata": {},
   "outputs": [
    {
     "data": {
      "text/plain": [
       "array([ 0.07976335, -1.32647724, -0.02389973, -0.02860516, -0.03746184,\n",
       "        0.03378625, -0.01567573,  0.393276  ,  0.32423178,  1.22214998,\n",
       "        0.35385026])"
      ]
     },
     "execution_count": 34,
     "metadata": {},
     "output_type": "execute_result"
    }
   ],
   "source": [
    "# W_100000\n",
    "lmsW"
   ]
  },
  {
   "cell_type": "code",
   "execution_count": 35,
   "metadata": {},
   "outputs": [
    {
     "data": {
      "image/png": "[encoded data removed]",
      "text/plain": [
       "<Figure size 432x288 with 1 Axes>"
      ]
     },
     "metadata": {
      "needs_background": "light"
     },
     "output_type": "display_data"
    }
   ],
   "source": [
    "plt.plot(range(itercount), errr)\n",
    "plt.xlabel('Iterations')\n",
    "plt.ylabel(r'$\\||X^{T}w_{n} - t\\||_{2}/N$')\n",
    "#plt.ylim(0,100)\n",
    "plt.show()"
   ]
  },
  {
   "cell_type": "code",
   "execution_count": null,
   "metadata": {},
   "outputs": [],
   "source": []
  }
 ],
 "metadata": {
  "kernelspec": {
   "display_name": "Python 3",
   "language": "python",
   "name": "python3"
  },
  "language_info": {
   "codemirror_mode": {
    "name": "ipython",
    "version": 3
   },
   "file_extension": ".py",
   "mimetype": "text/x-python",
   "name": "python",
   "nbconvert_exporter": "python",
   "pygments_lexer": "ipython3",
   "version": "3.8.5"
  }
 },
 "nbformat": 4,
 "nbformat_minor": 4
}
