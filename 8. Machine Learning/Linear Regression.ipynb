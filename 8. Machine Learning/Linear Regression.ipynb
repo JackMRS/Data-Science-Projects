{
 "cells": [
  {
   "cell_type": "code",
   "execution_count": 115,
   "metadata": {},
   "outputs": [],
   "source": [
    "import matplotlib.pyplot as plt\n",
    "import pandas as pd\n",
    "import pylab as pl\n",
    "import numpy as np\n",
    "%matplotlib inline"
   ]
  },
  {
   "cell_type": "code",
   "execution_count": 116,
   "metadata": {},
   "outputs": [],
   "source": [
    "wine_df = pd.read_csv(\"winequality-red.csv\", delimiter = \";\")"
   ]
  },
  {
   "cell_type": "code",
   "execution_count": 117,
   "metadata": {},
   "outputs": [],
   "source": [
    "inputs = wine_df.drop(['quality'], axis=1)\n",
    "X = inputs.to_numpy()\n",
    "t = wine_df['quality'].to_numpy()\n",
    "N = wine_df.shape[0]\n",
    "dim = X.shape[1]"
   ]
  },
  {
   "cell_type": "code",
   "execution_count": 118,
   "metadata": {},
   "outputs": [
    {
     "data": {
      "text/plain": [
       "array([ 4.19374044e-03, -1.09974310e+00, -1.84145975e-01,  7.07117376e-03,\n",
       "       -1.91141882e+00,  4.54780885e-03, -3.31855188e-03,  4.52914616e+00,\n",
       "       -5.22898302e-01,  8.87076125e-01,  2.97022815e-01])"
      ]
     },
     "execution_count": 118,
     "metadata": {},
     "output_type": "execute_result"
    }
   ],
   "source": [
    "# W* = (X * X_T )^-1 * X * t   \n",
    "wStar = np.linalg.inv(X.transpose() @ X) @ X.transpose() @ t\n",
    "wStar"
   ]
  },
  {
   "cell_type": "code",
   "execution_count": 119,
   "metadata": {},
   "outputs": [],
   "source": [
    "def err(X, w, t):\n",
    "    return (X @ w -t) @ (X @ w -t) / N\n",
    "\n",
    "def lms(X, t, iterCount, wStar):\n",
    "    W = []\n",
    "    randLim = np.random.randint(0, N, size = iterCount)\n",
    "    #initW = np.zeros(dim)\n",
    "    initW = np.random.rand(dim)\n",
    "    for n in randLim: \n",
    "        W.append(np.linalg.norm(initW - wStar))\n",
    "        initW = initW + (t[n] - initW @ X[n,:]) * X[n,:] / (np.linalg.norm(X[n,:])**2)\n",
    "    return initW, W\n",
    "\n",
    "# The function below is not part of HW \n",
    "# This one for testing and for fun\n",
    "def lmskai(X, t, iterCount, wStar):\n",
    "    W = []\n",
    "    initW = np.zeros(dim)\n",
    "    for i in range(int(iterCount/N)):  \n",
    "        for n in range(N): \n",
    "            W.append(np.linalg.norm(initW - wStar))\n",
    "            initW = initW + (t[n] - initW @ X[n,:]) * X[n,:] / (np.linalg.norm(X[n,:])**2)\n",
    "    for n in range(int(iterCount%N)):\n",
    "        W.append(np.linalg.norm(initW - wStar))\n",
    "        initW = initW + (t[n] - initW @ X[n,:]) * X[n,:] / (np.linalg.norm(X[n,:])**2)\n",
    "    return initW, W"
   ]
  },
  {
   "cell_type": "code",
   "execution_count": 120,
   "metadata": {},
   "outputs": [
    {
     "name": "stdout",
     "output_type": "stream",
     "text": [
      "0.4170492248204845\n",
      "0.5286590723694782\n"
     ]
    },
    {
     "data": {
      "image/png": "[encoded data removed]",
      "text/plain": [
       "<Figure size 432x288 with 1 Axes>"
      ]
     },
     "metadata": {
      "needs_background": "light"
     },
     "output_type": "display_data"
    },
    {
     "name": "stdout",
     "output_type": "stream",
     "text": [
      "Wall time: 1min 11s\n"
     ]
    }
   ],
   "source": [
    "%%time\n",
    "itercount = 100000\n",
    "print(err(X, wStar, t))\n",
    "lmsW, W = lms(X, t, itercount*35, wStar = wStar)\n",
    "print(err(X, lmsW, t))\n",
    "plt.plot(range(itercount*35), W)\n",
    "plt.xlabel('Iterations')\n",
    "plt.ylabel(r'$\\||w_{n} - w^{*}\\||$')\n",
    "plt.show()"
   ]
  },
  {
   "cell_type": "code",
   "execution_count": 121,
   "metadata": {},
   "outputs": [
    {
     "name": "stdout",
     "output_type": "stream",
     "text": [
      "0.4170492248204845\n",
      "0.4787700757322686\n"
     ]
    },
    {
     "data": {
      "image/png": "[encoded data removed]",
      "text/plain": [
       "<Figure size 432x288 with 1 Axes>"
      ]
     },
     "metadata": {
      "needs_background": "light"
     },
     "output_type": "display_data"
    },
    {
     "name": "stdout",
     "output_type": "stream",
     "text": [
      "Wall time: 3min 19s\n"
     ]
    }
   ],
   "source": [
    "%%time\n",
    "print(err(X, wStar, t))\n",
    "lmsW, W = lms(X, t, itercount*100, wStar = wStar)\n",
    "print(err(X, lmsW, t))\n",
    "plt.plot(range(itercount*100), W)\n",
    "plt.xlabel('Iterations')\n",
    "plt.ylabel(r'$\\||w_{n} - w^{*}\\||$')\n",
    "plt.show()"
   ]
  },
  {
   "cell_type": "code",
   "execution_count": null,
   "metadata": {},
   "outputs": [],
   "source": []
  },
  {
   "cell_type": "code",
   "execution_count": 97,
   "metadata": {},
   "outputs": [
    {
     "name": "stdout",
     "output_type": "stream",
     "text": [
      "0.4170492248204845\n",
      "0.4891356822419216\n"
     ]
    },
    {
     "data": {
      "image/png": "[encoded data removed]",
      "text/plain": [
       "<Figure size 432x288 with 1 Axes>"
      ]
     },
     "metadata": {
      "needs_background": "light"
     },
     "output_type": "display_data"
    },
    {
     "name": "stdout",
     "output_type": "stream",
     "text": [
      "Wall time: 16min 31s\n"
     ]
    }
   ],
   "source": [
    "%%time\n",
    "print(err(X, wStar, t))\n",
    "lmsW, W = lmskai(X, t, itercount*500, wStar = wStar)\n",
    "print(err(X, lmsW, t))\n",
    "plt.plot(range(itercount*500), W)\n",
    "plt.xlabel('Iterations')\n",
    "plt.ylabel(r'$\\||w_{n} - w^{*}\\||$')\n",
    "plt.show()"
   ]
  },
  {
   "cell_type": "code",
   "execution_count": 98,
   "metadata": {},
   "outputs": [],
   "source": [
    "import winsound\n",
    "winsound.Beep(440, 5000)"
   ]
  },
  {
   "cell_type": "code",
   "execution_count": 103,
   "metadata": {},
   "outputs": [
    {
     "data": {
      "text/plain": [
       "[2.9124745195927932,\n",
       " 2.9124750690584804,\n",
       " 2.912410749023238,\n",
       " 2.9124091023470533,\n",
       " 2.912420614746933,\n",
       " 2.912420614746933,\n",
       " 2.912436951304867,\n",
       " 2.912471576527611,\n",
       " 2.912301192943883,\n",
       " 2.911488517942077,\n",
       " 2.9115868108410274,\n",
       " 2.911492546936322,\n",
       " 2.913009411629996,\n",
       " 2.9121753853860914,\n",
       " 2.9124647867149753,\n",
       " 2.912229594685018,\n",
       " 2.9119417006878248,\n",
       " 2.9119171124704994,\n",
       " 2.9119270832896795,\n",
       " 2.9119270832896795,\n",
       " 2.9119931755454873,\n",
       " 2.9119703049783214,\n",
       " 2.9119929151457358,\n",
       " 2.911951596565904,\n",
       " 2.91195108688982,\n",
       " 2.91194827027527,\n",
       " 2.911953538123803,\n",
       " 2.9119099068842957,\n",
       " 2.9119099068842957,\n",
       " 2.911955247196319,\n",
       " 2.9119347309066312,\n",
       " 2.911936311570167,\n",
       " 2.9119452025482038,\n",
       " 2.9119452025482038,\n",
       " 2.9119375911007452,\n",
       " 2.911907566208433,\n",
       " 2.911907566208433,\n",
       " 2.9122339854587533,\n",
       " 2.9115273541629922,\n",
       " 2.9115620636616306,\n",
       " 2.911611877831597,\n",
       " 2.9115152788572822,\n",
       " 2.9115134192938967,\n",
       " 2.9115325101902814,\n",
       " 2.911602487256208,\n",
       " 2.9115505371689148,\n",
       " 2.911550526011354,\n",
       " 2.911550518924487,\n",
       " 2.9115528727365945,\n",
       " 2.911551525106095]"
      ]
     },
     "execution_count": 103,
     "metadata": {},
     "output_type": "execute_result"
    }
   ],
   "source": [
    "W[-50:]"
   ]
  },
  {
   "cell_type": "code",
   "execution_count": 111,
   "metadata": {},
   "outputs": [
    {
     "data": {
      "text/plain": [
       "array([[0.24778761, 0.39726027, 0.        , ..., 0.60629921, 0.13772455,\n",
       "        0.15384615],\n",
       "       [0.28318584, 0.52054795, 0.        , ..., 0.36220472, 0.20958084,\n",
       "        0.21538462],\n",
       "       [0.28318584, 0.43835616, 0.04      , ..., 0.40944882, 0.19161677,\n",
       "        0.21538462],\n",
       "       ...,\n",
       "       [0.15044248, 0.26712329, 0.13      , ..., 0.53543307, 0.25149701,\n",
       "        0.4       ],\n",
       "       [0.11504425, 0.35958904, 0.12      , ..., 0.65354331, 0.22754491,\n",
       "        0.27692308],\n",
       "       [0.12389381, 0.13013699, 0.47      , ..., 0.51181102, 0.19760479,\n",
       "        0.4       ]])"
      ]
     },
     "execution_count": 111,
     "metadata": {},
     "output_type": "execute_result"
    }
   ],
   "source": [
    "import pandas as pd\n",
    "from sklearn import preprocessing\n",
    "inputs = wine_df.drop(['quality'], axis=1)\n",
    "x = inputs.values #returns a numpy array\n",
    "min_max_scaler = preprocessing.MinMaxScaler()\n",
    "x_scaled = min_max_scaler.fit_transform(x)\n",
    "X = pd.DataFrame(x_scaled).values\n",
    "X"
   ]
  },
  {
   "cell_type": "code",
   "execution_count": 104,
   "metadata": {},
   "outputs": [
    {
     "data": {
      "text/plain": [
       "array([ 0.01538115,  0.0007172 ,  0.00169984, -0.001101  ,  0.00520603,\n",
       "        0.00279561,  0.00182739,  0.00326183,  0.02175857,  0.00995728,\n",
       "        0.01292408])"
      ]
     },
     "execution_count": 104,
     "metadata": {},
     "output_type": "execute_result"
    }
   ],
   "source": [
    "t = t / np.linalg.norm(t)\n",
    "wStar = np.linalg.inv(X.transpose() @ X) @ X.transpose() @ t\n",
    "wStar"
   ]
  },
  {
   "cell_type": "code",
   "execution_count": null,
   "metadata": {},
   "outputs": [],
   "source": []
  },
  {
   "cell_type": "code",
   "execution_count": 14,
   "metadata": {},
   "outputs": [],
   "source": [
    "def err(X, w, t):\n",
    "    return (X @ w -t) @ (X @ w -t) / N\n",
    "\n",
    "def lms(X, t, iterCount, wStar = None):\n",
    "    W = []\n",
    "    randLim = np.random.randint(0, N, size = iterCount)\n",
    "    initW = np.zeros(dim)\n",
    "    for n in randLim:\n",
    "        if wStar is not None:\n",
    "            W.append(np.linalg.norm(initW - wStar))\n",
    "        initW = initW + (t[n] - initW @ X[n,:]) * X[n,:] / (np.linalg.norm(X[n,:])**2)\n",
    "    if wStar is not None:\n",
    "        W.append(np.linalg.norm(initW - wStar))\n",
    "    return initW, W"
   ]
  }
 ],
 "metadata": {
  "kernelspec": {
   "display_name": "Python 3",
   "language": "python",
   "name": "python3"
  },
  "language_info": {
   "codemirror_mode": {
    "name": "ipython",
    "version": 3
   },
   "file_extension": ".py",
   "mimetype": "text/x-python",
   "name": "python",
   "nbconvert_exporter": "python",
   "pygments_lexer": "ipython3",
   "version": "3.8.5"
  }
 },
 "nbformat": 4,
 "nbformat_minor": 4
}
