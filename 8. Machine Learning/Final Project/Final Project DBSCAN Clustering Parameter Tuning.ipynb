{
 "cells": [
  {
   "cell_type": "code",
   "execution_count": 2,
   "metadata": {},
   "outputs": [],
   "source": [
    "import os\n",
    "import matplotlib.pyplot as plt\n",
    "from matplotlib.colors import ListedColormap\n",
    "from sklearn.datasets import make_circles\n",
    "import pandas as pd\n",
    "import numpy as np\n",
    "from sklearn.cluster import DBSCAN"
   ]
  },
  {
   "cell_type": "code",
   "execution_count": 3,
   "metadata": {},
   "outputs": [],
   "source": [
    "GloVe_df = pd.read_csv('GloVe.csv') \n",
    "empaths_df = pd.read_csv('Empathy.csv') "
   ]
  },
  {
   "cell_type": "code",
   "execution_count": 16,
   "metadata": {},
   "outputs": [],
   "source": [
    "def k_distances2(x, k):\n",
    "    dim0 = x.shape[0]\n",
    "    dim1 = x.shape[1]\n",
    "    p=-2*x.dot(x.T)+np.sum(x**2, axis=1).T+ np.repeat(np.sum(x**2, axis=1),dim0,axis=0).reshape(dim0,dim0)\n",
    "    p = np.sqrt(p)\n",
    "    p.sort(axis=1)\n",
    "    p=p[:,:k]\n",
    "    pm= p.flatten()\n",
    "    pm= np.sort(pm)\n",
    "    return p, pm"
   ]
  },
  {
   "cell_type": "code",
   "execution_count": 14,
   "metadata": {},
   "outputs": [],
   "source": [
    "GloVe = GloVe_df[GloVe_df.columns[2:]].to_numpy()\n",
    "Empa = empaths_df[empaths_df.columns[2:]].to_numpy()"
   ]
  },
  {
   "cell_type": "code",
   "execution_count": 14,
   "metadata": {},
   "outputs": [
    {
     "name": "stdout",
     "output_type": "stream",
     "text": [
      "Wall time: 14min 42s\n"
     ]
    }
   ],
   "source": [
    "%%time\n",
    "g, g2= k_distances2(GloVe, 1000)"
   ]
  },
  {
   "cell_type": "code",
   "execution_count": 17,
   "metadata": {},
   "outputs": [
    {
     "name": "stdout",
     "output_type": "stream",
     "text": [
      "Wall time: 11min 3s\n"
     ]
    }
   ],
   "source": [
    "%%time\n",
    "e, e2= k_distances2(Empa , 1000)"
   ]
  },
  {
   "cell_type": "code",
   "execution_count": 19,
   "metadata": {},
   "outputs": [
    {
     "data": {
      "image/png": "[encoded data removed]",
      "text/plain": [
       "<Figure size 432x288 with 1 Axes>"
      ]
     },
     "metadata": {
      "needs_background": "light"
     },
     "output_type": "display_data"
    },
    {
     "name": "stdout",
     "output_type": "stream",
     "text": [
      "Wall time: 3.83 s\n"
     ]
    }
   ],
   "source": [
    "%%time\n",
    "plt.plot(g2)\n",
    "plt.ylabel(\"k-distances\")\n",
    "plt.grid(True)\n",
    "#plt.xlim([0, 40000])\n",
    "plt.ylim([0, 1])\n",
    "plt.show()"
   ]
  },
  {
   "cell_type": "code",
   "execution_count": 18,
   "metadata": {},
   "outputs": [
    {
     "data": {
      "image/png": "[encoded data removed]",
      "text/plain": [
       "<Figure size 432x288 with 1 Axes>"
      ]
     },
     "metadata": {
      "needs_background": "light"
     },
     "output_type": "display_data"
    },
    {
     "name": "stdout",
     "output_type": "stream",
     "text": [
      "Wall time: 4.5 s\n"
     ]
    }
   ],
   "source": [
    "%%time\n",
    "plt.plot(e2)\n",
    "plt.ylabel(\"k-distances\")\n",
    "plt.grid(True)\n",
    "#plt.xlim([0, 40000])\n",
    "plt.ylim([0, 0.2])\n",
    "plt.show()"
   ]
  },
  {
   "cell_type": "code",
   "execution_count": 8,
   "metadata": {},
   "outputs": [],
   "source": [
    "import winsound\n",
    "duration = 3000  # milliseconds\n",
    "freq = 440  # Hz"
   ]
  },
  {
   "cell_type": "code",
   "execution_count": 28,
   "metadata": {},
   "outputs": [
    {
     "name": "stdout",
     "output_type": "stream",
     "text": [
      "{0, -1}\n",
      "Wall time: 5min 40s\n"
     ]
    },
    {
     "data": {
      "text/plain": [
       "-1    17884\n",
       " 0    16613\n",
       "Name: cluster_groups, dtype: int64"
      ]
     },
     "execution_count": 28,
     "metadata": {},
     "output_type": "execute_result"
    }
   ],
   "source": [
    "%%time\n",
    "epsilon = 0.30\n",
    "minimumSamples = 1000\n",
    "db = DBSCAN(eps=epsilon, min_samples=minimumSamples, algorithm='ball_tree').fit(GloVe)\n",
    "labels = db.labels_\n",
    "print(set(labels))\n",
    "GloVe_df['cluster_groups']=labels\n",
    "GloVe_df['cluster_groups'].value_counts()"
   ]
  },
  {
   "cell_type": "code",
   "execution_count": 29,
   "metadata": {},
   "outputs": [
    {
     "name": "stdout",
     "output_type": "stream",
     "text": [
      "{0, -1}\n",
      "Wall time: 5min 45s\n"
     ]
    },
    {
     "data": {
      "text/plain": [
       "-1    19212\n",
       " 0    15285\n",
       "Name: cluster_groups, dtype: int64"
      ]
     },
     "execution_count": 29,
     "metadata": {},
     "output_type": "execute_result"
    }
   ],
   "source": [
    "%%time\n",
    "epsilon = 0.30\n",
    "minimumSamples = 1500\n",
    "db = DBSCAN(eps=epsilon, min_samples=minimumSamples, algorithm='ball_tree').fit(GloVe)\n",
    "labels = db.labels_\n",
    "print(set(labels))\n",
    "GloVe_df['cluster_groups']=labels\n",
    "winsound.Beep(freq, duration)\n",
    "GloVe_df['cluster_groups'].value_counts()"
   ]
  },
  {
   "cell_type": "code",
   "execution_count": 30,
   "metadata": {},
   "outputs": [
    {
     "name": "stdout",
     "output_type": "stream",
     "text": [
      "{0, -1}\n",
      "Wall time: 5min 46s\n"
     ]
    },
    {
     "data": {
      "text/plain": [
       "-1    20981\n",
       " 0    13516\n",
       "Name: cluster_groups, dtype: int64"
      ]
     },
     "execution_count": 30,
     "metadata": {},
     "output_type": "execute_result"
    }
   ],
   "source": [
    "%%time\n",
    "epsilon = 0.30\n",
    "minimumSamples = 2000\n",
    "db = DBSCAN(eps=epsilon, min_samples=minimumSamples, algorithm='ball_tree').fit(GloVe)\n",
    "labels = db.labels_\n",
    "print(set(labels))\n",
    "GloVe_df['cluster_groups']=labels\n",
    "winsound.Beep(freq, duration)\n",
    "GloVe_df['cluster_groups'].value_counts()"
   ]
  },
  {
   "cell_type": "code",
   "execution_count": 31,
   "metadata": {},
   "outputs": [
    {
     "name": "stdout",
     "output_type": "stream",
     "text": [
      "{0, -1}\n",
      "Wall time: 5min 45s\n"
     ]
    },
    {
     "data": {
      "text/plain": [
       "-1    28651\n",
       " 0     5846\n",
       "Name: cluster_groups, dtype: int64"
      ]
     },
     "execution_count": 31,
     "metadata": {},
     "output_type": "execute_result"
    }
   ],
   "source": [
    "%%time\n",
    "epsilon = 0.30\n",
    "minimumSamples = 3000\n",
    "db = DBSCAN(eps=epsilon, min_samples=minimumSamples, algorithm='ball_tree').fit(GloVe)\n",
    "labels = db.labels_\n",
    "print(set(labels))\n",
    "GloVe_df['cluster_groups']=labels\n",
    "winsound.Beep(freq, duration)\n",
    "GloVe_df['cluster_groups'].value_counts()\n"
   ]
  },
  {
   "cell_type": "code",
   "execution_count": 9,
   "metadata": {},
   "outputs": [
    {
     "name": "stdout",
     "output_type": "stream",
     "text": [
      "{0, -1}\n",
      "Wall time: 5min 21s\n"
     ]
    },
    {
     "data": {
      "text/plain": [
       "-1    24055\n",
       " 0    10442\n",
       "Name: cluster_groups, dtype: int64"
      ]
     },
     "execution_count": 9,
     "metadata": {},
     "output_type": "execute_result"
    }
   ],
   "source": [
    "%%time\n",
    "epsilon = 0.25\n",
    "minimumSamples = 600\n",
    "db = DBSCAN(eps=epsilon, min_samples=minimumSamples, algorithm='ball_tree').fit(GloVe)\n",
    "labels = db.labels_\n",
    "print(set(labels))\n",
    "GloVe_df['cluster_groups']=labels\n",
    "winsound.Beep(freq, duration)\n",
    "GloVe_df['cluster_groups'].value_counts()\n"
   ]
  },
  {
   "cell_type": "code",
   "execution_count": 10,
   "metadata": {},
   "outputs": [
    {
     "name": "stdout",
     "output_type": "stream",
     "text": [
      "{0, -1}\n",
      "Wall time: 5min 23s\n"
     ]
    },
    {
     "data": {
      "text/plain": [
       "-1    25749\n",
       " 0     8748\n",
       "Name: cluster_groups, dtype: int64"
      ]
     },
     "execution_count": 10,
     "metadata": {},
     "output_type": "execute_result"
    }
   ],
   "source": [
    "%%time\n",
    "epsilon = 0.25\n",
    "minimumSamples = 800\n",
    "db = DBSCAN(eps=epsilon, min_samples=minimumSamples, algorithm='ball_tree').fit(GloVe)\n",
    "labels = db.labels_\n",
    "print(set(labels))\n",
    "GloVe_df['cluster_groups']=labels\n",
    "winsound.Beep(freq, duration)\n",
    "GloVe_df['cluster_groups'].value_counts()\n"
   ]
  },
  {
   "cell_type": "code",
   "execution_count": 11,
   "metadata": {},
   "outputs": [
    {
     "name": "stdout",
     "output_type": "stream",
     "text": [
      "{0, -1}\n",
      "Wall time: 5min 24s\n"
     ]
    },
    {
     "data": {
      "text/plain": [
       "-1    29194\n",
       " 0     5303\n",
       "Name: cluster_groups, dtype: int64"
      ]
     },
     "execution_count": 11,
     "metadata": {},
     "output_type": "execute_result"
    }
   ],
   "source": [
    "%%time\n",
    "epsilon = 0.25\n",
    "minimumSamples = 1000\n",
    "db = DBSCAN(eps=epsilon, min_samples=minimumSamples, algorithm='ball_tree').fit(GloVe)\n",
    "labels = db.labels_\n",
    "print(set(labels))\n",
    "GloVe_df['cluster_groups']=labels\n",
    "winsound.Beep(freq, duration)\n",
    "GloVe_df['cluster_groups'].value_counts()"
   ]
  },
  {
   "cell_type": "code",
   "execution_count": 12,
   "metadata": {},
   "outputs": [
    {
     "name": "stdout",
     "output_type": "stream",
     "text": [
      "{0, -1}\n",
      "Wall time: 5min 17s\n"
     ]
    },
    {
     "data": {
      "text/plain": [
       "-1    21658\n",
       " 0    12839\n",
       "Name: cluster_groups, dtype: int64"
      ]
     },
     "execution_count": 12,
     "metadata": {},
     "output_type": "execute_result"
    }
   ],
   "source": [
    "%%time\n",
    "epsilon = 0.25\n",
    "minimumSamples = 300\n",
    "db = DBSCAN(eps=epsilon, min_samples=minimumSamples, algorithm='ball_tree').fit(GloVe)\n",
    "labels = db.labels_\n",
    "print(set(labels))\n",
    "GloVe_df['cluster_groups']=labels\n",
    "winsound.Beep(freq, duration)\n",
    "GloVe_df['cluster_groups'].value_counts()\n"
   ]
  },
  {
   "cell_type": "code",
   "execution_count": 19,
   "metadata": {},
   "outputs": [
    {
     "name": "stdout",
     "output_type": "stream",
     "text": [
      "{0, -1}\n",
      "Wall time: 5min 44s\n"
     ]
    },
    {
     "data": {
      "text/plain": [
       " 0    21928\n",
       "-1    12569\n",
       "Name: cluster_groups, dtype: int64"
      ]
     },
     "execution_count": 19,
     "metadata": {},
     "output_type": "execute_result"
    }
   ],
   "source": [
    "%%time\n",
    "epsilon = 0.03\n",
    "minimumSamples = 400\n",
    "db = DBSCAN(eps=epsilon, min_samples=minimumSamples, algorithm='ball_tree').fit(Empa)\n",
    "labels = db.labels_\n",
    "print(set(labels))\n",
    "empaths_df['cluster_groups']=labels\n",
    "winsound.Beep(freq, duration)\n",
    "empaths_df['cluster_groups'].value_counts()"
   ]
  },
  {
   "cell_type": "code",
   "execution_count": null,
   "metadata": {},
   "outputs": [],
   "source": []
  }
 ],
 "metadata": {
  "kernelspec": {
   "display_name": "Python 3",
   "language": "python",
   "name": "python3"
  },
  "language_info": {
   "codemirror_mode": {
    "name": "ipython",
    "version": 3
   },
   "file_extension": ".py",
   "mimetype": "text/x-python",
   "name": "python",
   "nbconvert_exporter": "python",
   "pygments_lexer": "ipython3",
   "version": "3.8.5"
  }
 },
 "nbformat": 4,
 "nbformat_minor": 4
}
