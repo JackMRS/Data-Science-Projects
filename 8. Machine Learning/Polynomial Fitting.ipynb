{
 "cells": [
  {
   "cell_type": "code",
   "execution_count": 41,
   "metadata": {},
   "outputs": [],
   "source": [
    "import pandas as pd\n",
    "import matplotlib.pyplot as plt\n",
    "import numpy as np\n",
    "from numpy.linalg import inv"
   ]
  },
  {
   "cell_type": "code",
   "execution_count": 59,
   "metadata": {
    "scrolled": true
   },
   "outputs": [
    {
     "data": {
      "text/plain": [
       "<function matplotlib.pyplot.show(close=None, block=None)>"
      ]
     },
     "execution_count": 59,
     "metadata": {},
     "output_type": "execute_result"
    },
    {
     "data": {
      "image/png": "[encoded data removed]",
      "text/plain": [
       "<Figure size 432x288 with 1 Axes>"
      ]
     },
     "metadata": {
      "needs_background": "light"
     },
     "output_type": "display_data"
    }
   ],
   "source": [
    "# (b)\n",
    "# read data from the modified cvs file\n",
    "df_data = pd.read_csv(\"fitting_N20.csv\")\n",
    "x = df_data[\"x\"]\n",
    "t = df_data[\"t\"]\n",
    "plt.scatter(x,t, label=\"Sample Data\")\n",
    "plt.legend()\n",
    "plt.show"
   ]
  },
  {
   "cell_type": "code",
   "execution_count": 60,
   "metadata": {},
   "outputs": [],
   "source": [
    "# (c)\n",
    "#PolynomialFeatures() function in Scikit-learn library, \n",
    "# drives a new feature sets from the original feature set. \n",
    "#That is, a matrix will be generated consisting of all polynomial combinations \n",
    "# of the features with degree less than or equal to the specified degree. \n",
    "from sklearn.preprocessing import PolynomialFeatures\n",
    "from sklearn import linear_model"
   ]
  },
  {
   "cell_type": "code",
   "execution_count": 61,
   "metadata": {},
   "outputs": [],
   "source": [
    "# Train/Test Split involves splitting the dataset into training and testing sets respectively, \n",
    "# which are mutually exclusive. \n",
    "msk = np.random.rand(len(df_data)) < 0.8\n",
    "train = df_data[msk]\n",
    "test = df_data[~msk]\n",
    "\n",
    "train_x = np.asanyarray(train[['x']])\n",
    "train_t = np.asanyarray(train[['t']])\n",
    "\n",
    "test_x = np.asanyarray(test[['x']])\n",
    "test_t = np.asanyarray(test[['t']])"
   ]
  },
  {
   "cell_type": "code",
   "execution_count": 91,
   "metadata": {},
   "outputs": [
    {
     "name": "stdout",
     "output_type": "stream",
     "text": [
      "Coefficients:  [[ 0.         -4.08155335  3.64392542 -0.56136517]]\n",
      "Intercept:  [0.75091326]\n"
     ]
    }
   ],
   "source": [
    "# fit_transform takes our x values, and output a list of our data raised from power of 0 to power of M \n",
    "# (since we set the degree of our polynomial to M).\n",
    "\n",
    "poly = PolynomialFeatures(degree = 3)\n",
    "train_x_poly = poly.fit_transform(train_x)\n",
    "\n",
    "# so we can use LinearRegression() function to solve it:\n",
    "fit = linear_model.LinearRegression()\n",
    "train_t_ = fit.fit(train_x_poly, train_t)\n",
    "\n",
    "# The coefficients\n",
    "print ('Coefficients: ', fit.coef_)\n",
    "print ('Intercept: ',fit.intercept_)"
   ]
  },
  {
   "cell_type": "code",
   "execution_count": 92,
   "metadata": {},
   "outputs": [
    {
     "data": {
      "text/plain": [
       "Text(0.5, 1.0, 'M = 3')"
      ]
     },
     "execution_count": 92,
     "metadata": {},
     "output_type": "execute_result"
    },
    {
     "data": {
      "image/png": "[encoded data removed]",
      "text/plain": [
       "<Figure size 432x288 with 1 Axes>"
      ]
     },
     "metadata": {
      "needs_background": "light"
     },
     "output_type": "display_data"
    }
   ],
   "source": [
    "xx = np.arange(0.0, 2, 0.01)\n",
    "tt = fit.intercept_[0] + fit.coef_[0][1]*xx + fit.coef_[0][2]*np.power(xx, 2) + fit.coef_[0][3]*np.power(xx, 3) \n",
    "#+ fit.coef_[0][4]*np.power(xx, 4) + fit.coef_[0][5]*np.power(xx, 5) + fit.coef_[0][6]*np.power(xx, 6)\n",
    "# + fit.coef_[0][7]*np.power(xx, 7) + fit.coef_[0][8]*np.power(xx, 8)\n",
    "# + fit.coef_[0][9]*np.power(xx, 9) + fit.coef_[0][10]*np.power(xx, 10)\n",
    "plt.plot(xx, tt, '-r', label=\"Fitting Function\")\n",
    "plt.scatter(x,t, label=\"Sample Data\")\n",
    "plt.xlabel(\"x\")\n",
    "plt.ylabel(\"t\")\n",
    "plt.legend()\n",
    "plt.title('M = 3')"
   ]
  },
  {
   "cell_type": "code",
   "execution_count": null,
   "metadata": {},
   "outputs": [],
   "source": []
  },
  {
   "cell_type": "code",
   "execution_count": null,
   "metadata": {},
   "outputs": [],
   "source": []
  }
 ],
 "metadata": {
  "kernelspec": {
   "display_name": "Python 3",
   "language": "python",
   "name": "python3"
  },
  "language_info": {
   "codemirror_mode": {
    "name": "ipython",
    "version": 3
   },
   "file_extension": ".py",
   "mimetype": "text/x-python",
   "name": "python",
   "nbconvert_exporter": "python",
   "pygments_lexer": "ipython3",
   "version": "3.8.5"
  }
 },
 "nbformat": 4,
 "nbformat_minor": 4
}
