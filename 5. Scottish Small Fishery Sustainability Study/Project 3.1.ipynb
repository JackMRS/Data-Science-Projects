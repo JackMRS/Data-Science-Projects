{
 "cells": [
  {
   "cell_type": "code",
   "execution_count": 64,
   "metadata": {},
   "outputs": [],
   "source": [
    "import numpy as np\n",
    "import matplotlib.pyplot as plt\n",
    "import scipy.linalg as la\n",
    "import pandas as pd\n",
    "import seaborn as sns"
   ]
  },
  {
   "cell_type": "code",
   "execution_count": 16,
   "metadata": {
    "scrolled": true
   },
   "outputs": [
    {
     "name": "stdout",
     "output_type": "stream",
     "text": [
      "(1.2414402241505778+0j)\n",
      "[ 0.9485312 +0.j          0.44155086+0.j          0.44155086-0.j\n",
      " -0.40648307+0.j         -0.40648307-0.j          0.38625158+0.j\n",
      "  0.38625158-0.j          0.35157721+0.j          0.35157721-0.j\n",
      " -0.10054223-0.27880184j -0.10054223+0.27880184j -0.18287935-0.16580673j\n",
      " -0.18287935+0.16580673j -0.2078037 +0.j         -0.20434097-0.07385038j\n",
      " -0.20434097+0.07385038j]\n"
     ]
    }
   ],
   "source": [
    "A = np.array([[0.63,0.63,1.2,1.2,1.2,1.2,1.2,1.2,1.2,1.2,1.2,1.2,1.2,1.2,1.2,1.2],\n",
    "              [0.34,0,0,0,0,0,0,0,0,0,0,0,0,0,0,0],\n",
    "              [0,0.71,0,0,0,0,0,0,0,0,0,0,0,0,0,0],\n",
    "              [0,0,0.71,0,0,0,0,0,0,0,0,0,0,0,0,0],\n",
    "              [0,0,0,0.71,0,0,0,0,0,0,0,0,0,0,0,0],\n",
    "              [0,0,0,0,0.71,0,0,0,0,0,0,0,0,0,0,0],\n",
    "              [0,0,0,0,0,0.71,0,0,0,0,0,0,0,0,0,0],\n",
    "              [0,0,0,0,0,0,0.71,0,0,0,0,0,0,0,0,0],\n",
    "              [0,0,0,0,0,0,0,0.71,0,0,0,0,0,0,0,0],\n",
    "              [0,0,0,0,0,0,0,0,0.71,0,0,0,0,0,0,0],\n",
    "              [0,0,0,0,0,0,0,0,0,0.71,0,0,0,0,0,0],\n",
    "              [0,0,0,0,0,0,0,0,0,0,0.71,0,0,0,0,0],\n",
    "              [0,0,0,0,0,0,0,0,0,0,0,0.71,0,0,0,0],\n",
    "              [0,0,0,0,0,0,0,0,0,0,0,0,0.71,0,0,0],\n",
    "              [0,0,0,0,0,0,0,0,0,0,0,0,0,0.71,0,0],\n",
    "              [0,0,0,0,0,0,0,0,0,0,0,0,0,0,0.71,0]         \n",
    "             ])\n",
    "#print(A)\n",
    "eigvals, eigvecs = la.eig(A)\n",
    "#print(eigvecs)\n",
    "#eigvals = eigvals.real\n",
    "print(eigvals[0])\n",
    "print(eigvecs[0])"
   ]
  },
  {
   "cell_type": "code",
   "execution_count": 17,
   "metadata": {
    "scrolled": true
   },
   "outputs": [
    {
     "name": "stdout",
     "output_type": "stream",
     "text": [
      "(1.2414402241505778+0j)\n",
      "[ 0.9485312 +0.j          0.44155086+0.j          0.44155086-0.j\n",
      " -0.40648307+0.j         -0.40648307-0.j          0.38625158+0.j\n",
      "  0.38625158-0.j          0.35157721+0.j          0.35157721-0.j\n",
      " -0.10054223-0.27880184j -0.10054223+0.27880184j -0.18287935-0.16580673j\n",
      " -0.18287935+0.16580673j -0.2078037 +0.j         -0.20434097-0.07385038j\n",
      " -0.20434097+0.07385038j]\n"
     ]
    }
   ],
   "source": [
    "eigenvalues, eigenvectors = np.linalg.eig(A)\n",
    "print(eigenvalues[0])\n",
    "print(eigenvectors[0])"
   ]
  },
  {
   "cell_type": "code",
   "execution_count": 31,
   "metadata": {
    "scrolled": false
   },
   "outputs": [
    {
     "name": "stdout",
     "output_type": "stream",
     "text": [
      "[9.48531203e-01 2.59779410e-01 1.48572100e-01 8.49708177e-02\n",
      " 4.85962026e-02 2.77929643e-02 1.58952515e-02 9.09075474e-03\n",
      " 5.19915155e-03 2.97347994e-03 1.70058188e-03 9.72590636e-04\n",
      " 5.56240517e-04 3.18123064e-04 1.81939791e-04 1.04054347e-04]\n"
     ]
    }
   ],
   "source": [
    "v=np.array([1,1,1,1,1,1,1,1,1,1,1,1,1,1,1,1])\n",
    "u=A@A@A@A@A@A@A@A@A@A@A@A@A@A@A@A@A@A@A@A@A@A@A@A@A@A@A@A@A@A@A@A@A@A@A@A@A@A@A@A@A@A@A@A@A@A@A@v\n",
    "norm = np.linalg.norm(u)\n",
    "normal_array = u/norm\n",
    "print(normal_array)"
   ]
  },
  {
   "cell_type": "code",
   "execution_count": null,
   "metadata": {},
   "outputs": [],
   "source": [
    "[0.94853 0.25978 0.14857 0.08497 4.85962026e-02 2.77929643e-02 1.58952515e-02 9.09075474e-03 5.19915155e-03 2.97347994e-03 1.70058188e-03 9.72590636e-04 5.56240517e-04 3.18123064e-04 1.81939791e-04 1.04054347e-04]"
   ]
  },
  {
   "cell_type": "code",
   "execution_count": 33,
   "metadata": {},
   "outputs": [
    {
     "name": "stdout",
     "output_type": "stream",
     "text": [
      "[9.48531203e-01 2.59779410e-01 1.48572100e-01 8.49708180e-02\n",
      " 4.85962030e-02 2.77929640e-02 1.58952520e-02 9.09075500e-03\n",
      " 5.19915200e-03 2.97348000e-03 1.70058200e-03 9.72591000e-04\n",
      " 5.56241000e-04 3.18123000e-04 1.81940000e-04 1.04054000e-04]\n"
     ]
    }
   ],
   "source": [
    "largest_egvec=np.array([0.948531203,0.25977941,0.1485721,0.084970818,0.048596203,0.027792964,0.015895252,0.009090755,0.005199152,0.00297348,\n",
    "0.001700582,0.000972591,0.000556241,0.000318123,0.00018194,0.000104054])\n",
    "norm = np.linalg.norm(largest_egvec)\n",
    "normal_array = largest_egvec/norm\n",
    "print(normal_array)\n"
   ]
  },
  {
   "cell_type": "code",
   "execution_count": 44,
   "metadata": {},
   "outputs": [],
   "source": [
    "A = np.array([[0.63,0.63,1.2,1.2,1.2,1.2,1.2,1.2,1.2,1.2,1.2,1.2,1.2,1.2,1.2,1.2],\n",
    "              [0.34,0,0,0,0,0,0,0,0,0,0,0,0,0,0,0],\n",
    "              [0,0.71,0,0,0,0,0,0,0,0,0,0,0,0,0,0],\n",
    "              [0,0,0.71,0,0,0,0,0,0,0,0,0,0,0,0,0],\n",
    "              [0,0,0,0.71,0,0,0,0,0,0,0,0,0,0,0,0],\n",
    "              [0,0,0,0,0.71,0,0,0,0,0,0,0,0,0,0,0],\n",
    "              [0,0,0,0,0,0.71,0,0,0,0,0,0,0,0,0,0],\n",
    "              [0,0,0,0,0,0,0.71,0,0,0,0,0,0,0,0,0],\n",
    "              [0,0,0,0,0,0,0,0.71,0,0,0,0,0,0,0,0],\n",
    "              [0,0,0,0,0,0,0,0,0.71,0,0,0,0,0,0,0],\n",
    "              [0,0,0,0,0,0,0,0,0,0.71,0,0,0,0,0,0],\n",
    "              [0,0,0,0,0,0,0,0,0,0,0.71,0,0,0,0,0],\n",
    "              [0,0,0,0,0,0,0,0,0,0,0,0.71,0,0,0,0],\n",
    "              [0,0,0,0,0,0,0,0,0,0,0,0,0.71,0,0,0],\n",
    "              [0,0,0,0,0,0,0,0,0,0,0,0,0,0.71,0,0],\n",
    "              [0,0,0,0,0,0,0,0,0,0,0,0,0,0,0.71,0]         \n",
    "             ])\n",
    "A_c = np.array([[0.441,0.441,0.84,0.84,0.84,0.84,0.84,0.84,0.84,0.84,0.84,0.84,0.84,0.84,0.84,0.84],\n",
    "              [0.34,0,0,0,0,0,0,0,0,0,0,0,0,0,0,0],\n",
    "              [0,0.71,0,0,0,0,0,0,0,0,0,0,0,0,0,0],\n",
    "              [0,0,0.71,0,0,0,0,0,0,0,0,0,0,0,0,0],\n",
    "              [0,0,0,0.71,0,0,0,0,0,0,0,0,0,0,0,0],\n",
    "              [0,0,0,0,0.71,0,0,0,0,0,0,0,0,0,0,0],\n",
    "              [0,0,0,0,0,0.71,0,0,0,0,0,0,0,0,0,0],\n",
    "              [0,0,0,0,0,0,0.71,0,0,0,0,0,0,0,0,0],\n",
    "              [0,0,0,0,0,0,0,0.71,0,0,0,0,0,0,0,0],\n",
    "              [0,0,0,0,0,0,0,0,0.71,0,0,0,0,0,0,0],\n",
    "              [0,0,0,0,0,0,0,0,0,0.71,0,0,0,0,0,0],\n",
    "              [0,0,0,0,0,0,0,0,0,0,0.71,0,0,0,0,0],\n",
    "              [0,0,0,0,0,0,0,0,0,0,0,0.71,0,0,0,0],\n",
    "              [0,0,0,0,0,0,0,0,0,0,0,0,0.71,0,0,0],\n",
    "              [0,0,0,0,0,0,0,0,0,0,0,0,0,0.71,0,0],\n",
    "              [0,0,0,0,0,0,0,0,0,0,0,0,0,0,0.71,0]         \n",
    "             ])\n",
    "ini = np.array([0, 100, 50, 50, 25, 10, 0, 0, 0, 0, 0, 0, 0, 0, 0, 0])"
   ]
  },
  {
   "cell_type": "code",
   "execution_count": 45,
   "metadata": {},
   "outputs": [],
   "source": [
    "def env(ii):\n",
    "    init = ii\n",
    "    for i in range(10):\n",
    "        if (np.random.uniform(0,1)<=0.04):\n",
    "            init = A_c @ init     \n",
    "        else:\n",
    "            init = A @ init\n",
    "    return init"
   ]
  },
  {
   "cell_type": "code",
   "execution_count": 58,
   "metadata": {},
   "outputs": [],
   "source": [
    "result = env(ini)\n",
    "for i in range(99):\n",
    "    result = np.concatenate((result, env(ini)), axis=0)\n",
    "result=np.split(result,100)"
   ]
  },
  {
   "cell_type": "code",
   "execution_count": 59,
   "metadata": {},
   "outputs": [],
   "source": [
    "result?"
   ]
  },
  {
   "cell_type": "code",
   "execution_count": 62,
   "metadata": {},
   "outputs": [],
   "source": [
    "df = pd.DataFrame(data=result)"
   ]
  },
  {
   "cell_type": "code",
   "execution_count": 67,
   "metadata": {},
   "outputs": [],
   "source": [
    "#df.to_csv(r'project_3.1.csv')\n"
   ]
  },
  {
   "cell_type": "code",
   "execution_count": 68,
   "metadata": {},
   "outputs": [
    {
     "data": {
      "text/plain": [
       "<AxesSubplot:>"
      ]
     },
     "execution_count": 68,
     "metadata": {},
     "output_type": "execute_result"
    },
    {
     "data": {
      "image/png": "[encoded data removed]",
      "text/plain": [
       "<Figure size 432x288 with 1 Axes>"
      ]
     },
     "metadata": {
      "needs_background": "light"
     },
     "output_type": "display_data"
    }
   ],
   "source": [
    "df.boxplot()\n",
    "#sns.boxplot(data=df)"
   ]
  },
  {
   "cell_type": "code",
   "execution_count": 73,
   "metadata": {},
   "outputs": [],
   "source": [
    "pd1=pd.read_csv('project_3.1.csv')"
   ]
  },
  {
   "cell_type": "code",
   "execution_count": 74,
   "metadata": {},
   "outputs": [
    {
     "data": {
      "text/html": [
       "<div>\n",
       "<style scoped>\n",
       "    .dataframe tbody tr th:only-of-type {\n",
       "        vertical-align: middle;\n",
       "    }\n",
       "\n",
       "    .dataframe tbody tr th {\n",
       "        vertical-align: top;\n",
       "    }\n",
       "\n",
       "    .dataframe thead th {\n",
       "        text-align: right;\n",
       "    }\n",
       "</style>\n",
       "<table border=\"1\" class=\"dataframe\">\n",
       "  <thead>\n",
       "    <tr style=\"text-align: right;\">\n",
       "      <th></th>\n",
       "      <th>1</th>\n",
       "      <th>2</th>\n",
       "      <th>3</th>\n",
       "      <th>4</th>\n",
       "      <th>5</th>\n",
       "      <th>6</th>\n",
       "      <th>7</th>\n",
       "      <th>8</th>\n",
       "      <th>9</th>\n",
       "      <th>10</th>\n",
       "      <th>11</th>\n",
       "      <th>12</th>\n",
       "      <th>13</th>\n",
       "      <th>14</th>\n",
       "      <th>15</th>\n",
       "      <th>16</th>\n",
       "    </tr>\n",
       "  </thead>\n",
       "  <tbody>\n",
       "    <tr>\n",
       "      <th>0</th>\n",
       "      <td>1107.592421</td>\n",
       "      <td>434.824186</td>\n",
       "      <td>250.944051</td>\n",
       "      <td>138.103643</td>\n",
       "      <td>65.214967</td>\n",
       "      <td>53.202781</td>\n",
       "      <td>30.365672</td>\n",
       "      <td>17.673917</td>\n",
       "      <td>10.574878</td>\n",
       "      <td>4.940015</td>\n",
       "      <td>0</td>\n",
       "      <td>3.255244</td>\n",
       "      <td>1.627622</td>\n",
       "      <td>1.627622</td>\n",
       "      <td>0.813811</td>\n",
       "      <td>0.325524</td>\n",
       "    </tr>\n",
       "    <tr>\n",
       "      <th>1</th>\n",
       "      <td>1584.126065</td>\n",
       "      <td>433.702013</td>\n",
       "      <td>247.933117</td>\n",
       "      <td>142.296937</td>\n",
       "      <td>82.120917</td>\n",
       "      <td>45.119525</td>\n",
       "      <td>21.255971</td>\n",
       "      <td>17.673917</td>\n",
       "      <td>10.574878</td>\n",
       "      <td>4.940015</td>\n",
       "      <td>0</td>\n",
       "      <td>3.255244</td>\n",
       "      <td>1.627622</td>\n",
       "      <td>1.627622</td>\n",
       "      <td>0.813811</td>\n",
       "      <td>0.325524</td>\n",
       "    </tr>\n",
       "    <tr>\n",
       "      <th>2</th>\n",
       "      <td>1818.641569</td>\n",
       "      <td>498.047337</td>\n",
       "      <td>284.825821</td>\n",
       "      <td>162.903701</td>\n",
       "      <td>93.164239</td>\n",
       "      <td>53.202781</td>\n",
       "      <td>30.365672</td>\n",
       "      <td>17.673917</td>\n",
       "      <td>10.574878</td>\n",
       "      <td>4.940015</td>\n",
       "      <td>0</td>\n",
       "      <td>3.255244</td>\n",
       "      <td>1.627622</td>\n",
       "      <td>1.627622</td>\n",
       "      <td>0.813811</td>\n",
       "      <td>0.325524</td>\n",
       "    </tr>\n",
       "    <tr>\n",
       "      <th>3</th>\n",
       "      <td>1818.641569</td>\n",
       "      <td>498.047337</td>\n",
       "      <td>284.825821</td>\n",
       "      <td>162.903701</td>\n",
       "      <td>93.164239</td>\n",
       "      <td>53.202781</td>\n",
       "      <td>30.365672</td>\n",
       "      <td>17.673917</td>\n",
       "      <td>10.574878</td>\n",
       "      <td>4.940015</td>\n",
       "      <td>0</td>\n",
       "      <td>3.255244</td>\n",
       "      <td>1.627622</td>\n",
       "      <td>1.627622</td>\n",
       "      <td>0.813811</td>\n",
       "      <td>0.325524</td>\n",
       "    </tr>\n",
       "    <tr>\n",
       "      <th>4</th>\n",
       "      <td>1568.878756</td>\n",
       "      <td>429.657088</td>\n",
       "      <td>245.716111</td>\n",
       "      <td>140.495373</td>\n",
       "      <td>80.316315</td>\n",
       "      <td>46.026453</td>\n",
       "      <td>26.519823</td>\n",
       "      <td>14.858914</td>\n",
       "      <td>7.402415</td>\n",
       "      <td>4.940015</td>\n",
       "      <td>0</td>\n",
       "      <td>3.255244</td>\n",
       "      <td>1.627622</td>\n",
       "      <td>1.627622</td>\n",
       "      <td>0.813811</td>\n",
       "      <td>0.325524</td>\n",
       "    </tr>\n",
       "    <tr>\n",
       "      <th>...</th>\n",
       "      <td>...</td>\n",
       "      <td>...</td>\n",
       "      <td>...</td>\n",
       "      <td>...</td>\n",
       "      <td>...</td>\n",
       "      <td>...</td>\n",
       "      <td>...</td>\n",
       "      <td>...</td>\n",
       "      <td>...</td>\n",
       "      <td>...</td>\n",
       "      <td>...</td>\n",
       "      <td>...</td>\n",
       "      <td>...</td>\n",
       "      <td>...</td>\n",
       "      <td>...</td>\n",
       "      <td>...</td>\n",
       "    </tr>\n",
       "    <tr>\n",
       "      <th>95</th>\n",
       "      <td>1818.641569</td>\n",
       "      <td>498.047337</td>\n",
       "      <td>284.825821</td>\n",
       "      <td>162.903701</td>\n",
       "      <td>93.164239</td>\n",
       "      <td>53.202781</td>\n",
       "      <td>30.365672</td>\n",
       "      <td>17.673917</td>\n",
       "      <td>10.574878</td>\n",
       "      <td>4.940015</td>\n",
       "      <td>0</td>\n",
       "      <td>3.255244</td>\n",
       "      <td>1.627622</td>\n",
       "      <td>1.627622</td>\n",
       "      <td>0.813811</td>\n",
       "      <td>0.325524</td>\n",
       "    </tr>\n",
       "    <tr>\n",
       "      <th>96</th>\n",
       "      <td>1818.641569</td>\n",
       "      <td>498.047337</td>\n",
       "      <td>284.825821</td>\n",
       "      <td>162.903701</td>\n",
       "      <td>93.164239</td>\n",
       "      <td>53.202781</td>\n",
       "      <td>30.365672</td>\n",
       "      <td>17.673917</td>\n",
       "      <td>10.574878</td>\n",
       "      <td>4.940015</td>\n",
       "      <td>0</td>\n",
       "      <td>3.255244</td>\n",
       "      <td>1.627622</td>\n",
       "      <td>1.627622</td>\n",
       "      <td>0.813811</td>\n",
       "      <td>0.325524</td>\n",
       "    </tr>\n",
       "    <tr>\n",
       "      <th>97</th>\n",
       "      <td>1541.785844</td>\n",
       "      <td>348.633136</td>\n",
       "      <td>284.825821</td>\n",
       "      <td>162.903701</td>\n",
       "      <td>93.164239</td>\n",
       "      <td>53.202781</td>\n",
       "      <td>30.365672</td>\n",
       "      <td>17.673917</td>\n",
       "      <td>10.574878</td>\n",
       "      <td>4.940015</td>\n",
       "      <td>0</td>\n",
       "      <td>3.255244</td>\n",
       "      <td>1.627622</td>\n",
       "      <td>1.627622</td>\n",
       "      <td>0.813811</td>\n",
       "      <td>0.325524</td>\n",
       "    </tr>\n",
       "    <tr>\n",
       "      <th>98</th>\n",
       "      <td>1818.641569</td>\n",
       "      <td>498.047337</td>\n",
       "      <td>284.825821</td>\n",
       "      <td>162.903701</td>\n",
       "      <td>93.164239</td>\n",
       "      <td>53.202781</td>\n",
       "      <td>30.365672</td>\n",
       "      <td>17.673917</td>\n",
       "      <td>10.574878</td>\n",
       "      <td>4.940015</td>\n",
       "      <td>0</td>\n",
       "      <td>3.255244</td>\n",
       "      <td>1.627622</td>\n",
       "      <td>1.627622</td>\n",
       "      <td>0.813811</td>\n",
       "      <td>0.325524</td>\n",
       "    </tr>\n",
       "    <tr>\n",
       "      <th>99</th>\n",
       "      <td>1818.641569</td>\n",
       "      <td>498.047337</td>\n",
       "      <td>284.825821</td>\n",
       "      <td>162.903701</td>\n",
       "      <td>93.164239</td>\n",
       "      <td>53.202781</td>\n",
       "      <td>30.365672</td>\n",
       "      <td>17.673917</td>\n",
       "      <td>10.574878</td>\n",
       "      <td>4.940015</td>\n",
       "      <td>0</td>\n",
       "      <td>3.255244</td>\n",
       "      <td>1.627622</td>\n",
       "      <td>1.627622</td>\n",
       "      <td>0.813811</td>\n",
       "      <td>0.325524</td>\n",
       "    </tr>\n",
       "  </tbody>\n",
       "</table>\n",
       "<p>100 rows × 16 columns</p>\n",
       "</div>"
      ],
      "text/plain": [
       "              1           2           3           4          5          6  \\\n",
       "0   1107.592421  434.824186  250.944051  138.103643  65.214967  53.202781   \n",
       "1   1584.126065  433.702013  247.933117  142.296937  82.120917  45.119525   \n",
       "2   1818.641569  498.047337  284.825821  162.903701  93.164239  53.202781   \n",
       "3   1818.641569  498.047337  284.825821  162.903701  93.164239  53.202781   \n",
       "4   1568.878756  429.657088  245.716111  140.495373  80.316315  46.026453   \n",
       "..          ...         ...         ...         ...        ...        ...   \n",
       "95  1818.641569  498.047337  284.825821  162.903701  93.164239  53.202781   \n",
       "96  1818.641569  498.047337  284.825821  162.903701  93.164239  53.202781   \n",
       "97  1541.785844  348.633136  284.825821  162.903701  93.164239  53.202781   \n",
       "98  1818.641569  498.047337  284.825821  162.903701  93.164239  53.202781   \n",
       "99  1818.641569  498.047337  284.825821  162.903701  93.164239  53.202781   \n",
       "\n",
       "            7          8          9        10  11        12        13  \\\n",
       "0   30.365672  17.673917  10.574878  4.940015   0  3.255244  1.627622   \n",
       "1   21.255971  17.673917  10.574878  4.940015   0  3.255244  1.627622   \n",
       "2   30.365672  17.673917  10.574878  4.940015   0  3.255244  1.627622   \n",
       "3   30.365672  17.673917  10.574878  4.940015   0  3.255244  1.627622   \n",
       "4   26.519823  14.858914   7.402415  4.940015   0  3.255244  1.627622   \n",
       "..        ...        ...        ...       ...  ..       ...       ...   \n",
       "95  30.365672  17.673917  10.574878  4.940015   0  3.255244  1.627622   \n",
       "96  30.365672  17.673917  10.574878  4.940015   0  3.255244  1.627622   \n",
       "97  30.365672  17.673917  10.574878  4.940015   0  3.255244  1.627622   \n",
       "98  30.365672  17.673917  10.574878  4.940015   0  3.255244  1.627622   \n",
       "99  30.365672  17.673917  10.574878  4.940015   0  3.255244  1.627622   \n",
       "\n",
       "          14        15        16  \n",
       "0   1.627622  0.813811  0.325524  \n",
       "1   1.627622  0.813811  0.325524  \n",
       "2   1.627622  0.813811  0.325524  \n",
       "3   1.627622  0.813811  0.325524  \n",
       "4   1.627622  0.813811  0.325524  \n",
       "..       ...       ...       ...  \n",
       "95  1.627622  0.813811  0.325524  \n",
       "96  1.627622  0.813811  0.325524  \n",
       "97  1.627622  0.813811  0.325524  \n",
       "98  1.627622  0.813811  0.325524  \n",
       "99  1.627622  0.813811  0.325524  \n",
       "\n",
       "[100 rows x 16 columns]"
      ]
     },
     "execution_count": 74,
     "metadata": {},
     "output_type": "execute_result"
    }
   ],
   "source": [
    "pd1=pd1.drop(pd1.columns[[0]], axis=1)\n",
    "pd1"
   ]
  },
  {
   "cell_type": "code",
   "execution_count": 75,
   "metadata": {},
   "outputs": [
    {
     "data": {
      "text/plain": [
       "<AxesSubplot:>"
      ]
     },
     "execution_count": 75,
     "metadata": {},
     "output_type": "execute_result"
    },
    {
     "data": {
      "image/png": "[encoded data removed]",
      "text/plain": [
       "<Figure size 432x288 with 1 Axes>"
      ]
     },
     "metadata": {
      "needs_background": "light"
     },
     "output_type": "display_data"
    }
   ],
   "source": [
    "pd1.boxplot()"
   ]
  },
  {
   "cell_type": "code",
   "execution_count": 93,
   "metadata": {},
   "outputs": [
    {
     "data": {
      "text/plain": [
       "Text(0.5, 1.0, 'Bobcate 10 Year Age Distribution Box Plot')"
      ]
     },
     "execution_count": 93,
     "metadata": {},
     "output_type": "execute_result"
    },
    {
     "data": {
      "image/png": "[encoded data removed]",
      "text/plain": [
       "<Figure size 1152x432 with 1 Axes>"
      ]
     },
     "metadata": {
      "needs_background": "light"
     },
     "output_type": "display_data"
    }
   ],
   "source": [
    "import matplotlib.pyplot as plt\n",
    "\n",
    "plt.figure(figsize=(16,6))\n",
    "\n",
    "ax = sns.boxplot(data=pd1)\n",
    "ax.set(xlabel='Age Group', ylabel='Group Population')\n",
    "ax.set_title('Bobcate 10 Year Age Distribution Box Plot')"
   ]
  },
  {
   "cell_type": "code",
   "execution_count": 92,
   "metadata": {},
   "outputs": [
    {
     "data": {
      "text/plain": [
       "Text(0.5, 1.0, 'Bobcate 10 Year Age Distribution Line Plot')"
      ]
     },
     "execution_count": 92,
     "metadata": {},
     "output_type": "execute_result"
    },
    {
     "data": {
      "image/png": "[encoded data removed]",
      "text/plain": [
       "<Figure size 1152x432 with 1 Axes>"
      ]
     },
     "metadata": {
      "needs_background": "light"
     },
     "output_type": "display_data"
    }
   ],
   "source": [
    "plt.figure(figsize=(16,6))\n",
    "ax = sns.lineplot(data=pd1.transpose(),legend=False)\n",
    "ax.set(xlabel='Age Group', ylabel='Group Population')\n",
    "ax.set_title('Bobcate 10 Year Age Distribution Line Plot')"
   ]
  },
  {
   "cell_type": "code",
   "execution_count": null,
   "metadata": {},
   "outputs": [],
   "source": []
  },
  {
   "cell_type": "code",
   "execution_count": null,
   "metadata": {},
   "outputs": [],
   "source": []
  },
  {
   "cell_type": "code",
   "execution_count": 12,
   "metadata": {},
   "outputs": [
    {
     "ename": "SyntaxError",
     "evalue": "invalid syntax (<ipython-input-12-8061991291e2>, line 1)",
     "output_type": "error",
     "traceback": [
      "\u001b[1;36m  File \u001b[1;32m\"<ipython-input-12-8061991291e2>\"\u001b[1;36m, line \u001b[1;32m1\u001b[0m\n\u001b[1;33m    0.63 0.63 1.2 1.2 1.2 1.2 1.2 1.2 1.2 1.2 1.2 1.2 1.2 1.2 1.2 1.2\u001b[0m\n\u001b[1;37m         ^\u001b[0m\n\u001b[1;31mSyntaxError\u001b[0m\u001b[1;31m:\u001b[0m invalid syntax\n"
     ]
    }
   ],
   "source": [
    "0.63 0.63 1.2 1.2 1.2 1.2 1.2 1.2 1.2 1.2 1.2 1.2 1.2 1.2 1.2 1.2\n",
    "0.34 0 0 0 0 0 0 0 0 0 0 0 0 0 0 0\n",
    "0 0.71 0 0 0 0 0 0 0 0 0 0 0 0 0 0\n",
    "0 0 0.71 0 0 0 0 0 0 0 0 0 0 0 0 0\n",
    "0 0 0 0.71 0 0 0 0 0 0 0 0 0 0 0 0\n",
    "0 0 0 0 0.71 0 0 0 0 0 0 0 0 0 0 0\n",
    "0 0 0 0 0 0.71 0 0 0 0 0 0 0 0 0 0\n",
    "0 0 0 0 0 0 0.71 0 0 0 0 0 0 0 0 0\n",
    "0 0 0 0 0 0 0 0.71 0 0 0 0 0 0 0 0\n",
    "0 0 0 0 0 0 0 0 0.71 0 0 0 0 0 0 0\n",
    "0 0 0 0 0 0 0 0 0 0.71 0 0 0 0 0 0\n",
    "0 0 0 0 0 0 0 0 0 0 0.71 0 0 0 0 0\n",
    "0 0 0 0 0 0 0 0 0 0 0 0.71 0 0 0 0\n",
    "0 0 0 0 0 0 0 0 0 0 0 0 0.71 0 0 0\n",
    "0 0 0 0 0 0 0 0 0 0 0 0 0 0.71 0 0\n",
    "0 0 0 0 0 0 0 0 0 0 0 0 0 0 0.71 0"
   ]
  },
  {
   "cell_type": "code",
   "execution_count": 97,
   "metadata": {},
   "outputs": [],
   "source": [
    "M=np.array([[12,25,6],\n",
    "          [0.3,0.92,0],\n",
    "          [0,0.18,0.67]])\n",
    "I=np.array([1696,485,82])"
   ]
  },
  {
   "cell_type": "code",
   "execution_count": 103,
   "metadata": {},
   "outputs": [
    {
     "name": "stdout",
     "output_type": "stream",
     "text": [
      "[9.99672596e-01 2.55842382e-02 3.84690558e-04]\n",
      "849758444.0163025\n"
     ]
    }
   ],
   "source": [
    "u=M@M@M@M@M@I\n",
    "norm = np.linalg.norm(u)\n",
    "normal_array = u/norm\n",
    "print(normal_array)\n",
    "print(norm)"
   ]
  },
  {
   "cell_type": "code",
   "execution_count": null,
   "metadata": {},
   "outputs": [],
   "source": []
  }
 ],
 "metadata": {
  "kernelspec": {
   "display_name": "Python 3",
   "language": "python",
   "name": "python3"
  },
  "language_info": {
   "codemirror_mode": {
    "name": "ipython",
    "version": 3
   },
   "file_extension": ".py",
   "mimetype": "text/x-python",
   "name": "python",
   "nbconvert_exporter": "python",
   "pygments_lexer": "ipython3",
   "version": "3.8.5"
  }
 },
 "nbformat": 4,
 "nbformat_minor": 4
}
