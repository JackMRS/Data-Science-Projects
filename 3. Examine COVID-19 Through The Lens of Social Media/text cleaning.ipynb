{
 "cells": [
  {
   "cell_type": "code",
   "execution_count": 66,
   "metadata": {},
   "outputs": [],
   "source": [
    "import re\n",
    "\n",
    "my_file_path = 'Tweets week 5 8.22-8.30.txt'\n",
    "save_file_path = 'cleaned Tweets week 5 8.22-8.30.txt'\n",
    "\n",
    "#my_file = open(my_file_path, 'rb', encoding='utf-8')\n",
    "# keep characters and numbers \n",
    "cop = re.compile(\"[^\\u4e00-\\u9fa5^.^a-z^A-Z^0-9]\")"
   ]
  },
  {
   "cell_type": "code",
   "execution_count": 67,
   "metadata": {},
   "outputs": [],
   "source": [
    "my_file = open(my_file_path, 'rb')\n",
    "for line in my_file.readlines():\n",
    "    string = cop.sub(\" \", str(line))+\"\\n\"\n",
    "    save_file = open(save_file_path, 'a', encoding='gbk')\n",
    "    save_file.write(string)\n",
    "    save_file.flush()\n",
    "    save_file.close()\n",
    "\n",
    "# ascii(my_file.read(3)[0]) get unicode version\n",
    "my_file.close()"
   ]
  },
  {
   "cell_type": "code",
   "execution_count": 46,
   "metadata": {},
   "outputs": [],
   "source": [
    "with open(my_file_path, \"rb\") as f, open(save_file_path, \"w\") as n:\n",
    "    x = f.readlines()\n",
    "    for xx in x:\n",
    "        xx = xx.decode(\"gbk\",\"ignore\").strip().split(\",\")\n",
    "        xx = xx.replace(u'\\xa0', u' ')\n",
    "        xx = xx.replace(u'\\xa1', u' ')\n",
    "        xx = xx.replace(u'\\xa2', u' ')\n",
    "        xx = xx.replace(u'\\xa3', u' ')\n",
    "        xx = xx.replace(u'\\xa4', u' ')\n",
    "        xx = xx.replace(u'\\xa5', u' ')\n",
    "        xx = xx.replace(u'\\xa6', u' ')\n",
    "        xx = xx.replace(u'\\xa7', u' ')\n",
    "        xx = xx.replace(u'\\xa8', u' ')\n",
    "        xx = xx.replace(u'\\xa9', u' ')\n",
    "    result = re.sub(\"[^a-z\\s]\", \" \", str(x)+\"\\n\", 0, re.IGNORECASE | re.MULTILINE)\n",
    "    n.write(result)"
   ]
  }
 ],
 "metadata": {
  "kernelspec": {
   "display_name": "Python 3",
   "language": "python",
   "name": "python3"
  },
  "language_info": {
   "codemirror_mode": {
    "name": "ipython",
    "version": 3
   },
   "file_extension": ".py",
   "mimetype": "text/x-python",
   "name": "python",
   "nbconvert_exporter": "python",
   "pygments_lexer": "ipython3",
   "version": "3.8.5"
  }
 },
 "nbformat": 4,
 "nbformat_minor": 4
}
