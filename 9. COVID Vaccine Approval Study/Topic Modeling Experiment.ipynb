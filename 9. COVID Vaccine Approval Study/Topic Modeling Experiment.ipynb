{
 "cells": [
  {
   "cell_type": "code",
   "execution_count": 1,
   "metadata": {},
   "outputs": [],
   "source": [
    "import numpy as np\n",
    "import pandas as pd\n",
    "import matplotlib.pyplot as plt\n",
    "import seaborn as sns\n",
    "pd.set_option(\"display.max_colwidth\", 200)"
   ]
  },
  {
   "cell_type": "code",
   "execution_count": 2,
   "metadata": {},
   "outputs": [
    {
     "data": {
      "text/plain": [
       "11314"
      ]
     },
     "execution_count": 2,
     "metadata": {},
     "output_type": "execute_result"
    }
   ],
   "source": [
    "from sklearn.datasets import fetch_20newsgroups\n",
    "\n",
    "dataset = fetch_20newsgroups(shuffle=True, random_state=1, remove=('headers', 'footers', 'quotes'))\n",
    "documents = dataset.data\n",
    "len(documents)"
   ]
  },
  {
   "cell_type": "code",
   "execution_count": 3,
   "metadata": {},
   "outputs": [
    {
     "name": "stderr",
     "output_type": "stream",
     "text": [
      "<ipython-input-3-4f213573676c>:4: FutureWarning: The default value of regex will change from True to False in a future version.\n",
      "  news_df['clean_doc'] = news_df['document'].str.replace(\"[^a-zA-Z#]\", \" \")\n"
     ]
    }
   ],
   "source": [
    "news_df = pd.DataFrame({'document':documents})\n",
    "\n",
    "# removing everything except alphabets`\n",
    "news_df['clean_doc'] = news_df['document'].str.replace(\"[^a-zA-Z#]\", \" \")\n",
    "\n",
    "# removing short words\n",
    "news_df['clean_doc'] = news_df['clean_doc'].apply(lambda x: ' '.join([w for w in x.split() if len(w)>3]))\n",
    "\n",
    "# make all text lowercase\n",
    "news_df['clean_doc'] = news_df['clean_doc'].apply(lambda x: x.lower())"
   ]
  },
  {
   "cell_type": "code",
   "execution_count": 4,
   "metadata": {},
   "outputs": [
    {
     "data": {
      "text/html": [
       "<div>\n",
       "<style scoped>\n",
       "    .dataframe tbody tr th:only-of-type {\n",
       "        vertical-align: middle;\n",
       "    }\n",
       "\n",
       "    .dataframe tbody tr th {\n",
       "        vertical-align: top;\n",
       "    }\n",
       "\n",
       "    .dataframe thead th {\n",
       "        text-align: right;\n",
       "    }\n",
       "</style>\n",
       "<table border=\"1\" class=\"dataframe\">\n",
       "  <thead>\n",
       "    <tr style=\"text-align: right;\">\n",
       "      <th></th>\n",
       "      <th>document</th>\n",
       "      <th>clean_doc</th>\n",
       "    </tr>\n",
       "  </thead>\n",
       "  <tbody>\n",
       "    <tr>\n",
       "      <th>0</th>\n",
       "      <td>Well i'm not sure about the story nad it did seem biased. What\\nI disagree with is your statement that the U.S. Media is out to\\nruin Israels reputation. That is rediculous. The U.S. media is\\nthe...</td>\n",
       "      <td>well sure about story seem biased what disagree with your statement that media ruin israels reputation that rediculous media most israeli media world having lived europe realize that incidences su...</td>\n",
       "    </tr>\n",
       "    <tr>\n",
       "      <th>1</th>\n",
       "      <td>\\n\\n\\n\\n\\n\\n\\nYeah, do you expect people to read the FAQ, etc. and actually accept hard\\natheism?  No, you need a little leap of faith, Jimmy.  Your logic runs out\\nof steam!\\n\\n\\n\\n\\n\\n\\n\\nJim,\\n...</td>\n",
       "      <td>yeah expect people read actually accept hard atheism need little leap faith jimmy your logic runs steam sorry pity sorry that have these feelings denial about faith need well just pretend that wil...</td>\n",
       "    </tr>\n",
       "    <tr>\n",
       "      <th>2</th>\n",
       "      <td>Although I realize that principle is not one of your strongest\\npoints, I would still like to know why do do not ask any question\\nof this sort about the Arab countries.\\n\\n   If you want to conti...</td>\n",
       "      <td>although realize that principle your strongest points would still like know question this sort about arab countries want continue this think tank charade yours your fixation israel must stop might...</td>\n",
       "    </tr>\n",
       "    <tr>\n",
       "      <th>3</th>\n",
       "      <td>Notwithstanding all the legitimate fuss about this proposal, how much\\nof a change is it?  ATT's last product in this area (a) was priced over\\n$1000, as I suspect 'clipper' phones will be; (b) ca...</td>\n",
       "      <td>notwithstanding legitimate fuss about this proposal much change last product this area priced over suspect clipper phones will came customer with automatically preregistered with government author...</td>\n",
       "    </tr>\n",
       "    <tr>\n",
       "      <th>4</th>\n",
       "      <td>Well, I will have to change the scoring on my playoff pool.  Unfortunately\\nI don't have time right now, but I will certainly post the new scoring\\nrules by tomorrow.  Does it matter?  No, you'll ...</td>\n",
       "      <td>well will have change scoring playoff pool unfortunately have time right will certainly post scoring rules tomorrow does matter enter anyway good keith keller rangers quakers kkeller mail upenn le...</td>\n",
       "    </tr>\n",
       "    <tr>\n",
       "      <th>...</th>\n",
       "      <td>...</td>\n",
       "      <td>...</td>\n",
       "    </tr>\n",
       "    <tr>\n",
       "      <th>11309</th>\n",
       "      <td>Danny Rubenstein, an Israeli journalist, will be speaking tonight \\n(Wednesday, 7:30 pm) on the messy subject of politics in Israel.\\nHe is speaking at Hillel on the U.C. Berkeley campus.  The tal...</td>\n",
       "      <td>danny rubenstein israeli journalist will speaking tonight wednesday messy subject politics israel speaking hillel berkeley campus talk sponsored berkeley israel action committee</td>\n",
       "    </tr>\n",
       "    <tr>\n",
       "      <th>11310</th>\n",
       "      <td>\\n</td>\n",
       "      <td></td>\n",
       "    </tr>\n",
       "    <tr>\n",
       "      <th>11311</th>\n",
       "      <td>\\nI agree.  Home runs off Clemens are always memorable.  Kinda like\\neclipses and hurricanes.  They don't happen very often.</td>\n",
       "      <td>agree home runs clemens always memorable kinda like eclipses hurricanes they happen very often</td>\n",
       "    </tr>\n",
       "    <tr>\n",
       "      <th>11312</th>\n",
       "      <td>I used HP DeskJet with Orange Micros Grappler LS on System6.0.5.\\n\\nBut now I update system 6.0.5 to System7 with Kanji-Talk 7.1,\\nthen I can not print by my DeskJet.\\n\\nIs the Grappler LS old ?\\n...</td>\n",
       "      <td>used deskjet with orange micros grappler system update system system with kanji talk then print deskjet grappler deskjet system please tell deskjet system thank</td>\n",
       "    </tr>\n",
       "    <tr>\n",
       "      <th>11313</th>\n",
       "      <td>^^^^^^\\nNo argument at all with Murphy.  He scared the hell out of me when he came in\\nlast year.  On the other hand, the club though enough of Boever to put ...</td>\n",
       "      <td>argument with murphy scared hell when came last year other hand club though enough boever into awful games have league appearances least some point seemed very viable setup guess that considered t...</td>\n",
       "    </tr>\n",
       "  </tbody>\n",
       "</table>\n",
       "<p>11314 rows × 2 columns</p>\n",
       "</div>"
      ],
      "text/plain": [
       "                                                                                                                                                                                                      document  \\\n",
       "0      Well i'm not sure about the story nad it did seem biased. What\\nI disagree with is your statement that the U.S. Media is out to\\nruin Israels reputation. That is rediculous. The U.S. media is\\nthe...   \n",
       "1      \\n\\n\\n\\n\\n\\n\\nYeah, do you expect people to read the FAQ, etc. and actually accept hard\\natheism?  No, you need a little leap of faith, Jimmy.  Your logic runs out\\nof steam!\\n\\n\\n\\n\\n\\n\\n\\nJim,\\n...   \n",
       "2      Although I realize that principle is not one of your strongest\\npoints, I would still like to know why do do not ask any question\\nof this sort about the Arab countries.\\n\\n   If you want to conti...   \n",
       "3      Notwithstanding all the legitimate fuss about this proposal, how much\\nof a change is it?  ATT's last product in this area (a) was priced over\\n$1000, as I suspect 'clipper' phones will be; (b) ca...   \n",
       "4      Well, I will have to change the scoring on my playoff pool.  Unfortunately\\nI don't have time right now, but I will certainly post the new scoring\\nrules by tomorrow.  Does it matter?  No, you'll ...   \n",
       "...                                                                                                                                                                                                        ...   \n",
       "11309  Danny Rubenstein, an Israeli journalist, will be speaking tonight \\n(Wednesday, 7:30 pm) on the messy subject of politics in Israel.\\nHe is speaking at Hillel on the U.C. Berkeley campus.  The tal...   \n",
       "11310                                                                                                                                                                                                       \\n   \n",
       "11311                                                                             \\nI agree.  Home runs off Clemens are always memorable.  Kinda like\\neclipses and hurricanes.  They don't happen very often.   \n",
       "11312  I used HP DeskJet with Orange Micros Grappler LS on System6.0.5.\\n\\nBut now I update system 6.0.5 to System7 with Kanji-Talk 7.1,\\nthen I can not print by my DeskJet.\\n\\nIs the Grappler LS old ?\\n...   \n",
       "11313                                        ^^^^^^\\nNo argument at all with Murphy.  He scared the hell out of me when he came in\\nlast year.  On the other hand, the club though enough of Boever to put ...   \n",
       "\n",
       "                                                                                                                                                                                                     clean_doc  \n",
       "0      well sure about story seem biased what disagree with your statement that media ruin israels reputation that rediculous media most israeli media world having lived europe realize that incidences su...  \n",
       "1      yeah expect people read actually accept hard atheism need little leap faith jimmy your logic runs steam sorry pity sorry that have these feelings denial about faith need well just pretend that wil...  \n",
       "2      although realize that principle your strongest points would still like know question this sort about arab countries want continue this think tank charade yours your fixation israel must stop might...  \n",
       "3      notwithstanding legitimate fuss about this proposal much change last product this area priced over suspect clipper phones will came customer with automatically preregistered with government author...  \n",
       "4      well will have change scoring playoff pool unfortunately have time right will certainly post scoring rules tomorrow does matter enter anyway good keith keller rangers quakers kkeller mail upenn le...  \n",
       "...                                                                                                                                                                                                        ...  \n",
       "11309                        danny rubenstein israeli journalist will speaking tonight wednesday messy subject politics israel speaking hillel berkeley campus talk sponsored berkeley israel action committee  \n",
       "11310                                                                                                                                                                                                           \n",
       "11311                                                                                                           agree home runs clemens always memorable kinda like eclipses hurricanes they happen very often  \n",
       "11312                                         used deskjet with orange micros grappler system update system system with kanji talk then print deskjet grappler deskjet system please tell deskjet system thank  \n",
       "11313  argument with murphy scared hell when came last year other hand club though enough boever into awful games have league appearances least some point seemed very viable setup guess that considered t...  \n",
       "\n",
       "[11314 rows x 2 columns]"
      ]
     },
     "execution_count": 4,
     "metadata": {},
     "output_type": "execute_result"
    }
   ],
   "source": [
    "news_df"
   ]
  },
  {
   "cell_type": "code",
   "execution_count": 13,
   "metadata": {},
   "outputs": [],
   "source": [
    "from nltk.corpus import stopwords\n",
    "stop_words = stopwords.words('english')\n",
    "\n",
    "# tokenization\n",
    "tokenized_doc = news_df['clean_doc'].apply(lambda x: x.split())\n",
    "\n",
    "# remove stop-words\n",
    "tokenized_doc = tokenized_doc.apply(lambda x: [item for item in x if item not in stop_words])\n",
    "\n",
    "# de-tokenization\n",
    "detokenized_doc = []\n",
    "for i in range(len(news_df)):\n",
    "    t = ' '.join(tokenized_doc[i])\n",
    "    detokenized_doc.append(t)\n",
    "\n",
    "news_df['clean_doc'] = detokenized_doc"
   ]
  },
  {
   "cell_type": "code",
   "execution_count": 6,
   "metadata": {},
   "outputs": [
    {
     "data": {
      "text/html": [
       "<div>\n",
       "<style scoped>\n",
       "    .dataframe tbody tr th:only-of-type {\n",
       "        vertical-align: middle;\n",
       "    }\n",
       "\n",
       "    .dataframe tbody tr th {\n",
       "        vertical-align: top;\n",
       "    }\n",
       "\n",
       "    .dataframe thead th {\n",
       "        text-align: right;\n",
       "    }\n",
       "</style>\n",
       "<table border=\"1\" class=\"dataframe\">\n",
       "  <thead>\n",
       "    <tr style=\"text-align: right;\">\n",
       "      <th></th>\n",
       "      <th>document</th>\n",
       "      <th>clean_doc</th>\n",
       "    </tr>\n",
       "  </thead>\n",
       "  <tbody>\n",
       "    <tr>\n",
       "      <th>0</th>\n",
       "      <td>Well i'm not sure about the story nad it did seem biased. What\\nI disagree with is your statement that the U.S. Media is out to\\nruin Israels reputation. That is rediculous. The U.S. media is\\nthe...</td>\n",
       "      <td>well sure story seem biased disagree statement media ruin israels reputation rediculous media israeli media world lived europe realize incidences described letter occured media whole seem ignore s...</td>\n",
       "    </tr>\n",
       "    <tr>\n",
       "      <th>1</th>\n",
       "      <td>\\n\\n\\n\\n\\n\\n\\nYeah, do you expect people to read the FAQ, etc. and actually accept hard\\natheism?  No, you need a little leap of faith, Jimmy.  Your logic runs out\\nof steam!\\n\\n\\n\\n\\n\\n\\n\\nJim,\\n...</td>\n",
       "      <td>yeah expect people read actually accept hard atheism need little leap faith jimmy logic runs steam sorry pity sorry feelings denial faith need well pretend happily ever anyway maybe start newsgrou...</td>\n",
       "    </tr>\n",
       "    <tr>\n",
       "      <th>2</th>\n",
       "      <td>Although I realize that principle is not one of your strongest\\npoints, I would still like to know why do do not ask any question\\nof this sort about the Arab countries.\\n\\n   If you want to conti...</td>\n",
       "      <td>although realize principle strongest points would still like know question sort arab countries want continue think tank charade fixation israel must stop might start asking sort questions arab cou...</td>\n",
       "    </tr>\n",
       "    <tr>\n",
       "      <th>3</th>\n",
       "      <td>Notwithstanding all the legitimate fuss about this proposal, how much\\nof a change is it?  ATT's last product in this area (a) was priced over\\n$1000, as I suspect 'clipper' phones will be; (b) ca...</td>\n",
       "      <td>notwithstanding legitimate fuss proposal much change last product area priced suspect clipper phones came customer automatically preregistered government authorities thus aside attempting legitimi...</td>\n",
       "    </tr>\n",
       "    <tr>\n",
       "      <th>4</th>\n",
       "      <td>Well, I will have to change the scoring on my playoff pool.  Unfortunately\\nI don't have time right now, but I will certainly post the new scoring\\nrules by tomorrow.  Does it matter?  No, you'll ...</td>\n",
       "      <td>well change scoring playoff pool unfortunately time right certainly post scoring rules tomorrow matter enter anyway good keith keller rangers quakers kkeller mail upenn league champs</td>\n",
       "    </tr>\n",
       "    <tr>\n",
       "      <th>...</th>\n",
       "      <td>...</td>\n",
       "      <td>...</td>\n",
       "    </tr>\n",
       "    <tr>\n",
       "      <th>11309</th>\n",
       "      <td>Danny Rubenstein, an Israeli journalist, will be speaking tonight \\n(Wednesday, 7:30 pm) on the messy subject of politics in Israel.\\nHe is speaking at Hillel on the U.C. Berkeley campus.  The tal...</td>\n",
       "      <td>danny rubenstein israeli journalist speaking tonight wednesday messy subject politics israel speaking hillel berkeley campus talk sponsored berkeley israel action committee</td>\n",
       "    </tr>\n",
       "    <tr>\n",
       "      <th>11310</th>\n",
       "      <td>\\n</td>\n",
       "      <td></td>\n",
       "    </tr>\n",
       "    <tr>\n",
       "      <th>11311</th>\n",
       "      <td>\\nI agree.  Home runs off Clemens are always memorable.  Kinda like\\neclipses and hurricanes.  They don't happen very often.</td>\n",
       "      <td>agree home runs clemens always memorable kinda like eclipses hurricanes happen often</td>\n",
       "    </tr>\n",
       "    <tr>\n",
       "      <th>11312</th>\n",
       "      <td>I used HP DeskJet with Orange Micros Grappler LS on System6.0.5.\\n\\nBut now I update system 6.0.5 to System7 with Kanji-Talk 7.1,\\nthen I can not print by my DeskJet.\\n\\nIs the Grappler LS old ?\\n...</td>\n",
       "      <td>used deskjet orange micros grappler system update system system kanji talk print deskjet grappler deskjet system please tell deskjet system thank</td>\n",
       "    </tr>\n",
       "    <tr>\n",
       "      <th>11313</th>\n",
       "      <td>^^^^^^\\nNo argument at all with Murphy.  He scared the hell out of me when he came in\\nlast year.  On the other hand, the club though enough of Boever to put ...</td>\n",
       "      <td>argument murphy scared hell came last year hand club though enough boever awful games league appearances least point seemed viable setup guess considered crucial club remember years well though co...</td>\n",
       "    </tr>\n",
       "  </tbody>\n",
       "</table>\n",
       "<p>11314 rows × 2 columns</p>\n",
       "</div>"
      ],
      "text/plain": [
       "                                                                                                                                                                                                      document  \\\n",
       "0      Well i'm not sure about the story nad it did seem biased. What\\nI disagree with is your statement that the U.S. Media is out to\\nruin Israels reputation. That is rediculous. The U.S. media is\\nthe...   \n",
       "1      \\n\\n\\n\\n\\n\\n\\nYeah, do you expect people to read the FAQ, etc. and actually accept hard\\natheism?  No, you need a little leap of faith, Jimmy.  Your logic runs out\\nof steam!\\n\\n\\n\\n\\n\\n\\n\\nJim,\\n...   \n",
       "2      Although I realize that principle is not one of your strongest\\npoints, I would still like to know why do do not ask any question\\nof this sort about the Arab countries.\\n\\n   If you want to conti...   \n",
       "3      Notwithstanding all the legitimate fuss about this proposal, how much\\nof a change is it?  ATT's last product in this area (a) was priced over\\n$1000, as I suspect 'clipper' phones will be; (b) ca...   \n",
       "4      Well, I will have to change the scoring on my playoff pool.  Unfortunately\\nI don't have time right now, but I will certainly post the new scoring\\nrules by tomorrow.  Does it matter?  No, you'll ...   \n",
       "...                                                                                                                                                                                                        ...   \n",
       "11309  Danny Rubenstein, an Israeli journalist, will be speaking tonight \\n(Wednesday, 7:30 pm) on the messy subject of politics in Israel.\\nHe is speaking at Hillel on the U.C. Berkeley campus.  The tal...   \n",
       "11310                                                                                                                                                                                                       \\n   \n",
       "11311                                                                             \\nI agree.  Home runs off Clemens are always memorable.  Kinda like\\neclipses and hurricanes.  They don't happen very often.   \n",
       "11312  I used HP DeskJet with Orange Micros Grappler LS on System6.0.5.\\n\\nBut now I update system 6.0.5 to System7 with Kanji-Talk 7.1,\\nthen I can not print by my DeskJet.\\n\\nIs the Grappler LS old ?\\n...   \n",
       "11313                                        ^^^^^^\\nNo argument at all with Murphy.  He scared the hell out of me when he came in\\nlast year.  On the other hand, the club though enough of Boever to put ...   \n",
       "\n",
       "                                                                                                                                                                                                     clean_doc  \n",
       "0      well sure story seem biased disagree statement media ruin israels reputation rediculous media israeli media world lived europe realize incidences described letter occured media whole seem ignore s...  \n",
       "1      yeah expect people read actually accept hard atheism need little leap faith jimmy logic runs steam sorry pity sorry feelings denial faith need well pretend happily ever anyway maybe start newsgrou...  \n",
       "2      although realize principle strongest points would still like know question sort arab countries want continue think tank charade fixation israel must stop might start asking sort questions arab cou...  \n",
       "3      notwithstanding legitimate fuss proposal much change last product area priced suspect clipper phones came customer automatically preregistered government authorities thus aside attempting legitimi...  \n",
       "4                       well change scoring playoff pool unfortunately time right certainly post scoring rules tomorrow matter enter anyway good keith keller rangers quakers kkeller mail upenn league champs  \n",
       "...                                                                                                                                                                                                        ...  \n",
       "11309                             danny rubenstein israeli journalist speaking tonight wednesday messy subject politics israel speaking hillel berkeley campus talk sponsored berkeley israel action committee  \n",
       "11310                                                                                                                                                                                                           \n",
       "11311                                                                                                                     agree home runs clemens always memorable kinda like eclipses hurricanes happen often  \n",
       "11312                                                        used deskjet orange micros grappler system update system system kanji talk print deskjet grappler deskjet system please tell deskjet system thank  \n",
       "11313  argument murphy scared hell came last year hand club though enough boever awful games league appearances least point seemed viable setup guess considered crucial club remember years well though co...  \n",
       "\n",
       "[11314 rows x 2 columns]"
      ]
     },
     "execution_count": 6,
     "metadata": {},
     "output_type": "execute_result"
    }
   ],
   "source": [
    "news_df"
   ]
  },
  {
   "cell_type": "code",
   "execution_count": 7,
   "metadata": {},
   "outputs": [
    {
     "data": {
      "text/plain": [
       "(11314, 1000)"
      ]
     },
     "execution_count": 7,
     "metadata": {},
     "output_type": "execute_result"
    }
   ],
   "source": [
    "from sklearn.feature_extraction.text import TfidfVectorizer\n",
    "\n",
    "vectorizer = TfidfVectorizer(stop_words='english', \n",
    "max_features= 1000, # keep top 1000 terms \n",
    "max_df = 0.5, \n",
    "smooth_idf=True)\n",
    "\n",
    "X = vectorizer.fit_transform(news_df['clean_doc'])\n",
    "\n",
    "X.shape # check shape of the document-term matrix"
   ]
  },
  {
   "cell_type": "code",
   "execution_count": 8,
   "metadata": {},
   "outputs": [
    {
     "data": {
      "text/plain": [
       "20"
      ]
     },
     "execution_count": 8,
     "metadata": {},
     "output_type": "execute_result"
    }
   ],
   "source": [
    "from sklearn.decomposition import TruncatedSVD\n",
    "\n",
    "# SVD represent documents and terms in vectors \n",
    "svd_model = TruncatedSVD(n_components=20, algorithm='randomized', n_iter=100, random_state=122)\n",
    "\n",
    "svd_model.fit(X)\n",
    "\n",
    "len(svd_model.components_)"
   ]
  },
  {
   "cell_type": "code",
   "execution_count": 9,
   "metadata": {},
   "outputs": [],
   "source": [
    "terms = vectorizer.get_feature_names()\n",
    "topics=[]\n",
    "\n",
    "for i, comp in enumerate(svd_model.components_):\n",
    "    terms_comp = zip(terms, comp)\n",
    "    sorted_terms = sorted(terms_comp, key= lambda x:x[1], reverse=True)[:7]\n",
    "    string = \"Topic \"+str(i)+\": \"\n",
    "    for t in sorted_terms:\n",
    "        string = string + t[0] + ' '\n",
    "        \n",
    "    topics.append(string)\n"
   ]
  },
  {
   "cell_type": "code",
   "execution_count": 12,
   "metadata": {},
   "outputs": [
    {
     "name": "stdout",
     "output_type": "stream",
     "text": [
      "Topic 0: like know people think good time thanks \n",
      "Topic 1: thanks windows card drive mail file advance \n",
      "Topic 2: game team year games season players good \n",
      "Topic 3: drive scsi disk hard card drives problem \n",
      "Topic 4: windows file window files program using problem \n",
      "Topic 5: government chip mail space information encryption data \n",
      "Topic 6: like bike know chip sounds looks look \n",
      "Topic 7: card sale video offer monitor price jesus \n",
      "Topic 8: know card chip video government people clipper \n",
      "Topic 9: good know time bike jesus problem work \n",
      "Topic 10: think chip good thanks clipper need encryption \n",
      "Topic 11: thanks right problem good bike time window \n",
      "Topic 12: good people windows know file sale files \n",
      "Topic 13: space think know nasa problem year israel \n",
      "Topic 14: space good card people time nasa thanks \n",
      "Topic 15: people problem window time game want bike \n",
      "Topic 16: time bike right windows file need really \n",
      "Topic 17: time problem file think israel long mail \n",
      "Topic 18: file need card files problem right good \n",
      "Topic 19: problem file thanks used space chip sale \n"
     ]
    }
   ],
   "source": [
    "for i in topics:\n",
    "    print(i)"
   ]
  },
  {
   "cell_type": "code",
   "execution_count": null,
   "metadata": {},
   "outputs": [],
   "source": []
  },
  {
   "cell_type": "code",
   "execution_count": null,
   "metadata": {},
   "outputs": [],
   "source": []
  },
  {
   "cell_type": "code",
   "execution_count": null,
   "metadata": {},
   "outputs": [],
   "source": []
  },
  {
   "cell_type": "code",
   "execution_count": 10,
   "metadata": {},
   "outputs": [
    {
     "data": {
      "text/plain": [
       "array([17,  0, 17, ...,  9,  4,  9])"
      ]
     },
     "execution_count": 10,
     "metadata": {},
     "output_type": "execute_result"
    }
   ],
   "source": [
    "dataset.target"
   ]
  },
  {
   "cell_type": "code",
   "execution_count": 11,
   "metadata": {},
   "outputs": [
    {
     "name": "stdout",
     "output_type": "stream",
     "text": [
      "^C\n",
      "Requirement already satisfied: umap-learn in c:\\users\\wuyue\\anaconda3\\lib\\site-packages (0.5.1)\n",
      "Requirement already satisfied: scikit-learn>=0.22 in c:\\users\\wuyue\\anaconda3\\lib\\site-packages (from umap-learn) (0.23.2)\n",
      "Requirement already satisfied: numpy>=1.17 in c:\\users\\wuyue\\anaconda3\\lib\\site-packages (from umap-learn) (1.19.5+vanilla)\n",
      "Requirement already satisfied: pynndescent>=0.5 in c:\\users\\wuyue\\anaconda3\\lib\\site-packages (from umap-learn) (0.5.2)\n",
      "Requirement already satisfied: scipy>=1.0 in c:\\users\\wuyue\\anaconda3\\lib\\site-packages (from umap-learn) (1.6.0)\n",
      "Requirement already satisfied: numba>=0.49 in c:\\users\\wuyue\\anaconda3\\lib\\site-packages (from umap-learn) (0.51.2)\n",
      "Requirement already satisfied: threadpoolctl>=2.0.0 in c:\\users\\wuyue\\anaconda3\\lib\\site-packages (from scikit-learn>=0.22->umap-learn) (2.1.0)\n",
      "Requirement already satisfied: joblib>=0.11 in c:\\users\\wuyue\\anaconda3\\lib\\site-packages (from scikit-learn>=0.22->umap-learn) (0.17.0)\n",
      "Requirement already satisfied: llvmlite>=0.30 in c:\\users\\wuyue\\anaconda3\\lib\\site-packages (from pynndescent>=0.5->umap-learn) (0.34.0)\n",
      "Requirement already satisfied: setuptools in c:\\users\\wuyue\\anaconda3\\lib\\site-packages (from numba>=0.49->umap-learn) (50.3.1.post20201107)\n"
     ]
    },
    {
     "data": {
      "image/png": "[encoded data removed]",
      "text/plain": [
       "<Figure size 504x360 with 1 Axes>"
      ]
     },
     "metadata": {
      "needs_background": "light"
     },
     "output_type": "display_data"
    }
   ],
   "source": [
    "!pip uninstall umap\n",
    "!pip install umap-learn\n",
    "import umap\n",
    "\n",
    "X_topics = svd_model.fit_transform(X)\n",
    "embedding = umap.UMAP(n_neighbors=150, min_dist=0.5, random_state=12).fit_transform(X_topics)\n",
    "\n",
    "plt.figure(figsize=(7,5))\n",
    "plt.scatter(embedding[:, 0], embedding[:, 1], \n",
    "#c = dataset.target,\n",
    "s = 10, # size\n",
    "edgecolor='none'\n",
    ")\n",
    "plt.show()"
   ]
  },
  {
   "cell_type": "code",
   "execution_count": null,
   "metadata": {},
   "outputs": [],
   "source": []
  }
 ],
 "metadata": {
  "kernelspec": {
   "display_name": "Python 3",
   "language": "python",
   "name": "python3"
  },
  "language_info": {
   "codemirror_mode": {
    "name": "ipython",
    "version": 3
   },
   "file_extension": ".py",
   "mimetype": "text/x-python",
   "name": "python",
   "nbconvert_exporter": "python",
   "pygments_lexer": "ipython3",
   "version": "3.8.5"
  }
 },
 "nbformat": 4,
 "nbformat_minor": 4
}
