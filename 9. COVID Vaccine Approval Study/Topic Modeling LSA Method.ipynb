{
 "cells": [
  {
   "cell_type": "code",
   "execution_count": 1,
   "metadata": {},
   "outputs": [
    {
     "name": "stderr",
     "output_type": "stream",
     "text": [
      "[nltk_data] Downloading package punkt to\n",
      "[nltk_data]     C:\\Users\\Wuyue\\AppData\\Roaming\\nltk_data...\n",
      "[nltk_data]   Package punkt is already up-to-date!\n",
      "[nltk_data] Downloading package stopwords to\n",
      "[nltk_data]     C:\\Users\\Wuyue\\AppData\\Roaming\\nltk_data...\n",
      "[nltk_data]   Package stopwords is already up-to-date!\n",
      "[nltk_data] Downloading package vader_lexicon to\n",
      "[nltk_data]     C:\\Users\\Wuyue\\AppData\\Roaming\\nltk_data...\n",
      "[nltk_data]   Package vader_lexicon is already up-to-date!\n"
     ]
    }
   ],
   "source": [
    "import pandas as pd\n",
    "import nltk\n",
    "from nltk.tokenize import word_tokenize\n",
    "from nltk.corpus import stopwords\n",
    "from sklearn.feature_extraction.text import TfidfVectorizer\n",
    "from sklearn.decomposition import TruncatedSVD\n",
    "import requests \n",
    "from bs4 import BeautifulSoup \n",
    "import time\n",
    "from googlesearch import search \n",
    "from mechanize import Browser \n",
    "import umap\n",
    "\n",
    "nltk.download('punkt')\n",
    "nltk.download('stopwords')\n",
    "nltk.download('vader_lexicon')\n",
    "\n",
    "stop_words = stopwords.words('english')\n",
    "unwanted_chars = ['.',':',',',\"n't\",\"'ve\",'http','https','co']"
   ]
  },
  {
   "cell_type": "code",
   "execution_count": 2,
   "metadata": {},
   "outputs": [
    {
     "data": {
      "text/plain": [
       "Index(['Unnamed: 0', 'id', 'user_name', 'user_location', 'user_description',\n",
       "       'user_created', 'user_followers', 'user_friends', 'user_favourites',\n",
       "       'user_verified', 'date', 'text', 'hashtags', 'source', 'retweets',\n",
       "       'favorites', 'is_retweet', 'user_city', 'user_country', 'city_latitude',\n",
       "       'city_longitude', 'text_words', 'neg_sentiment', 'pos_sentiment',\n",
       "       'neu_sentiment', 'compound_sentiment'],\n",
       "      dtype='object')"
      ]
     },
     "execution_count": 2,
     "metadata": {},
     "output_type": "execute_result"
    }
   ],
   "source": [
    "df_tweets=pd.read_csv('works_so_far.csv')\n",
    "df_IN = df_tweets.query(\"user_country == 'IN' & compound_sentiment < -0.05\")\n",
    "df_IN.columns"
   ]
  },
  {
   "cell_type": "code",
   "execution_count": 17,
   "metadata": {},
   "outputs": [],
   "source": [
    "def getTopics(df, features_num = 1000, threshold = 0.2, topic_num = 10):\n",
    "    # removing everything except alphabets\n",
    "    df['clean_text'] = df['text'].str.replace(\"[^a-zA-Z#]\", \" \")\n",
    "    \n",
    "    # tokenization\n",
    "    tweets = df['clean_text'].apply(lambda x: x.split())\n",
    "\n",
    "    # remove stop-words & unwanted chars and URL components\n",
    "    tweets = tweets.apply(lambda x: [item for item in x if item not in stop_words])\n",
    "    tweets = tweets.apply(lambda x: [item for item in x if item not in unwanted_chars])\n",
    "    \n",
    "    # de-tokenization\n",
    "    detokenized_tweets = []\n",
    "    for i in range(len(df)):\n",
    "        t = ' '.join(tweets.tolist()[i])\n",
    "        detokenized_tweets.append(t)\n",
    "    df['clean_text'] = detokenized_tweets\n",
    "    \n",
    "    \n",
    "    vectorizer = TfidfVectorizer(stop_words='english', \n",
    "                             max_features= features_num, # keep top 1000 terms \n",
    "                             max_df = threshold, # threshold of ignoring super high frequency words\n",
    "                             smooth_idf=True)\n",
    "    X = vectorizer.fit_transform(df['clean_text'])\n",
    "    \n",
    "    # SVD represent documents and terms in vectors \n",
    "    svd_model = TruncatedSVD(n_components = topic_num, algorithm='randomized', n_iter=100, random_state=122)\n",
    "    svd_model.fit(X)\n",
    "    \n",
    "    terms = vectorizer.get_feature_names()\n",
    "    topics=[]\n",
    "    for i, comp in enumerate(svd_model.components_):\n",
    "        terms_comp = zip(terms, comp)\n",
    "        sorted_terms = sorted(terms_comp, key= lambda x:x[1], reverse=True)[:7]\n",
    "        string = \"Topic \"+str(i)+\": \"\n",
    "        for t in sorted_terms:\n",
    "            string = string + t[0] + ' '\n",
    "        print(string)\n",
    "        topics.append(string)\n",
    "        \n",
    "        \n",
    "    br = Browser()\n",
    "    i = 0\n",
    "    meaningful_topics = []\n",
    "    for query in topics:\n",
    "        i = i+1\n",
    "        print(\"Google search results for the \", i, \"-th topic is about:\") \n",
    "        for url in search(query, tld=\"com\", lang='en',num=2, start=0,stop=2, pause=5.0):\n",
    "            time.sleep(10)\n",
    "            # making requests instance \n",
    "            reqs = requests.get(url)\n",
    "            # using the BeaitifulSoup module\n",
    "            soup = BeautifulSoup(reqs.text, 'html.parser')\n",
    "            # displaying the title \n",
    "            try:\n",
    "                print(str(soup.find_all('title')[0])[7:-8])\n",
    "                meaningful_topics.append(str(soup.find_all('title')[0])[7:-8])\n",
    "            except:\n",
    "                print(\"This website does not have a title, the URL is: \", url)\n",
    "                meaningful_topics.append(str(url))\n",
    "            \n",
    "    \n",
    "    X_topics = svd_model.fit_transform(X)\n",
    "    embedding = umap.UMAP(n_neighbors=topic_num/2, min_dist=0.02*topic_num, random_state=12).fit_transform(X_topics)\n",
    "    plt.figure(figsize=(7,5))\n",
    "    plt.scatter(embedding[:, 0], embedding[:, 1],# c = de_tweets['user_city'],\n",
    "                s = 5, # size\n",
    "                edgecolor='none')\n",
    "    plt.show()\n",
    "    return meaningful_topics"
   ]
  },
  {
   "cell_type": "markdown",
   "metadata": {
    "scrolled": false
   },
   "source": [
    "%%time\n",
    "df_tweets=pd.read_csv('works_so_far.csv')\n",
    "df_IN = df_tweets.query(\"user_country == 'IN'\")\n",
    "topics = getTopics(df_IN, features_num = 1000, threshold = 0.2, topic_num = 10)"
   ]
  },
  {
   "cell_type": "code",
   "execution_count": 18,
   "metadata": {},
   "outputs": [
    {
     "name": "stderr",
     "output_type": "stream",
     "text": [
      "<ipython-input-17-5df3cbc993bb>:3: FutureWarning: The default value of regex will change from True to False in a future version.\n",
      "  df['clean_text'] = df['text'].str.replace(\"[^a-zA-Z#]\", \" \")\n",
      "<ipython-input-17-5df3cbc993bb>:3: SettingWithCopyWarning: \n",
      "A value is trying to be set on a copy of a slice from a DataFrame.\n",
      "Try using .loc[row_indexer,col_indexer] = value instead\n",
      "\n",
      "See the caveats in the documentation: https://pandas.pydata.org/pandas-docs/stable/user_guide/indexing.html#returning-a-view-versus-a-copy\n",
      "  df['clean_text'] = df['text'].str.replace(\"[^a-zA-Z#]\", \" \")\n",
      "<ipython-input-17-5df3cbc993bb>:17: SettingWithCopyWarning: \n",
      "A value is trying to be set on a copy of a slice from a DataFrame.\n",
      "Try using .loc[row_indexer,col_indexer] = value instead\n",
      "\n",
      "See the caveats in the documentation: https://pandas.pydata.org/pandas-docs/stable/user_guide/indexing.html#returning-a-view-versus-a-copy\n",
      "  df['clean_text'] = detokenized_tweets\n"
     ]
    },
    {
     "name": "stdout",
     "output_type": "stream",
     "text": [
      "Topic 0: health allergic canada ingredients warned coronavirus india \n",
      "Topic 1: india coronavirus allowed covidvaccination tiauqijkr sb sfndmev \n",
      "Topic 2: receiving elderly died deaths dzsoua experts fj \n",
      "Topic 3: world organization validation granted health authorised basis \n",
      "Topic 4: deaths says link vaccination post ivcpzyv jab \n",
      "Topic 5: withdraw amp vaccines request india vaccinated dead \n",
      "Topic 6: amp approved coronavirus eu anxqm cnb efficacy \n",
      "Topic 7: dead getting vaccinated bzyqx note pus vaccines \n",
      "Topic 8: death autopsy gjtvdpp pathetic report scarry connection \n",
      "Topic 9: developed bear bhakts boycott igtuww zoo astrazeneca \n",
      "Google search results for the  1 -th topic is about:\n",
      "Health Canada warns people allergic to COVID-19 vaccine ingredients as cases surpass 450K - National | Globalnews.ca\n",
      "Canada warns allergic people against Pfizer Covid-19 vaccine - Times of India\n",
      "Google search results for the  2 -th topic is about:\n",
      "Pfizer-BioNTech COVID-19 Vaccine | FDA\n",
      "COVID-19 Vaccine | Mass.gov\n",
      "Google search results for the  3 -th topic is about:\n",
      "Bloomberg - Are you a robot?\n",
      "data-vue-meta=\"true\">Coronavirus: experts say no reason for alarm over reports elderly people died after being given vaccine | South China Morning Post\n",
      "Google search results for the  4 -th topic is about:\n",
      "\n",
      "\tWHO issues its first emergency use validation for a COVID-19 vaccine and emphasizes need for equitable global access\n",
      "\n",
      "This website does not have a title, the URL is:  https://www.fda.gov/media/142749/download\n",
      "Google search results for the  5 -th topic is about:\n",
      "data-react-helmet=\"true\">Fact-check: No link between COVID-19 vaccines and those who die after receiving them - ABC News\n",
      "Fact check: No links found between vaccination and deaths | Europe| News and current affairs from around the continent | DW | 05.02.2021\n",
      "Google search results for the  6 -th topic is about:\n",
      "No need for vaccines, COVID pandemic is  over, says Former Vice President of Pfizer\n",
      "data-rh=\"true\">Novavax’s Vaccine Works Well Except on Variant First Found in South Africa - The New York Times\n",
      "Google search results for the  7 -th topic is about:\n",
      "COVID-19: latest updates | European Medicines Agency\n",
      "Treatments and vaccines for COVID-19 | European Medicines Agency\n",
      "Google search results for the  8 -th topic is about:\n",
      "Page not available\n",
      "Page not available\n",
      "Google search results for the  9 -th topic is about:\n",
      "Ananda Mahidol - Wikipedia\n",
      "Long Live the King\n",
      " |\n",
      "History\n",
      "\n",
      "    | Smithsonian Magazine\n",
      "Google search results for the  10 -th topic is about:\n",
      "data-rh=\"true\">Continent’s medics boycott Oxford  jab as Europe talks down efficacy | News | The Sunday Times\n",
      "Rejected at birth, Knut becomes Berlin zoo's bear essential | World news | The Guardian\n"
     ]
    },
    {
     "ename": "TypingError",
     "evalue": "Failed in nopython mode pipeline (step: nopython frontend)\n\u001b[1m\u001b[1m\u001b[1mNo implementation of function Function(<built-in function empty>) found for signature:\n \n >>> empty(Tuple(int64, float64), dtype=class(int32))\n \nThere are 2 candidate implementations:\n\u001b[1m  - Of which 2 did not match due to:\n  Overload of function 'empty': File: numba\\core\\typing\\npydecl.py: Line 504.\n    With argument(s): '(Tuple(int64, float64), dtype=class(int32))':\u001b[0m\n\u001b[1m   No match.\u001b[0m\n\u001b[0m\n\u001b[0m\u001b[1mDuring: resolving callee type: Function(<built-in function empty>)\u001b[0m\n\u001b[0m\u001b[1mDuring: typing of call at C:\\Users\\Wuyue\\anaconda3\\lib\\site-packages\\umap\\utils.py (30)\n\u001b[0m\n\u001b[1m\nFile \"..\\..\\..\\..\\anaconda3\\lib\\site-packages\\umap\\utils.py\", line 30:\u001b[0m\n\u001b[1mdef fast_knn_indices(X, n_neighbors):\n    <source elided>\n    \"\"\"\n\u001b[1m    knn_indices = np.empty((X.shape[0], n_neighbors), dtype=np.int32)\n\u001b[0m    \u001b[1m^\u001b[0m\u001b[0m\n",
     "output_type": "error",
     "traceback": [
      "\u001b[1;31m---------------------------------------------------------------------------\u001b[0m",
      "\u001b[1;31mTypingError\u001b[0m                               Traceback (most recent call last)",
      "\u001b[1;32m<ipython-input-18-42e4b8162c76>\u001b[0m in \u001b[0;36m<module>\u001b[1;34m\u001b[0m\n\u001b[1;32m----> 1\u001b[1;33m \u001b[0mtopics\u001b[0m \u001b[1;33m=\u001b[0m \u001b[0mgetTopics\u001b[0m\u001b[1;33m(\u001b[0m\u001b[0mdf_IN\u001b[0m\u001b[1;33m,\u001b[0m \u001b[0mfeatures_num\u001b[0m \u001b[1;33m=\u001b[0m \u001b[1;36m1000\u001b[0m\u001b[1;33m,\u001b[0m \u001b[0mthreshold\u001b[0m \u001b[1;33m=\u001b[0m \u001b[1;36m0.2\u001b[0m\u001b[1;33m,\u001b[0m \u001b[0mtopic_num\u001b[0m \u001b[1;33m=\u001b[0m \u001b[1;36m10\u001b[0m\u001b[1;33m)\u001b[0m\u001b[1;33m\u001b[0m\u001b[1;33m\u001b[0m\u001b[0m\n\u001b[0m",
      "\u001b[1;32m<ipython-input-17-5df3cbc993bb>\u001b[0m in \u001b[0;36mgetTopics\u001b[1;34m(df, features_num, threshold, topic_num)\u001b[0m\n\u001b[0;32m     62\u001b[0m \u001b[1;33m\u001b[0m\u001b[0m\n\u001b[0;32m     63\u001b[0m     \u001b[0mX_topics\u001b[0m \u001b[1;33m=\u001b[0m \u001b[0msvd_model\u001b[0m\u001b[1;33m.\u001b[0m\u001b[0mfit_transform\u001b[0m\u001b[1;33m(\u001b[0m\u001b[0mX\u001b[0m\u001b[1;33m)\u001b[0m\u001b[1;33m\u001b[0m\u001b[1;33m\u001b[0m\u001b[0m\n\u001b[1;32m---> 64\u001b[1;33m     \u001b[0membedding\u001b[0m \u001b[1;33m=\u001b[0m \u001b[0mumap\u001b[0m\u001b[1;33m.\u001b[0m\u001b[0mUMAP\u001b[0m\u001b[1;33m(\u001b[0m\u001b[0mn_neighbors\u001b[0m\u001b[1;33m=\u001b[0m\u001b[0mtopic_num\u001b[0m\u001b[1;33m/\u001b[0m\u001b[1;36m2\u001b[0m\u001b[1;33m,\u001b[0m \u001b[0mmin_dist\u001b[0m\u001b[1;33m=\u001b[0m\u001b[1;36m0.02\u001b[0m\u001b[1;33m*\u001b[0m\u001b[0mtopic_num\u001b[0m\u001b[1;33m,\u001b[0m \u001b[0mrandom_state\u001b[0m\u001b[1;33m=\u001b[0m\u001b[1;36m12\u001b[0m\u001b[1;33m)\u001b[0m\u001b[1;33m.\u001b[0m\u001b[0mfit_transform\u001b[0m\u001b[1;33m(\u001b[0m\u001b[0mX_topics\u001b[0m\u001b[1;33m)\u001b[0m\u001b[1;33m\u001b[0m\u001b[1;33m\u001b[0m\u001b[0m\n\u001b[0m\u001b[0;32m     65\u001b[0m     \u001b[0mplt\u001b[0m\u001b[1;33m.\u001b[0m\u001b[0mfigure\u001b[0m\u001b[1;33m(\u001b[0m\u001b[0mfigsize\u001b[0m\u001b[1;33m=\u001b[0m\u001b[1;33m(\u001b[0m\u001b[1;36m7\u001b[0m\u001b[1;33m,\u001b[0m\u001b[1;36m5\u001b[0m\u001b[1;33m)\u001b[0m\u001b[1;33m)\u001b[0m\u001b[1;33m\u001b[0m\u001b[1;33m\u001b[0m\u001b[0m\n\u001b[0;32m     66\u001b[0m     plt.scatter(embedding[:, 0], embedding[:, 1],# c = de_tweets['user_city'],\n",
      "\u001b[1;32m~\\anaconda3\\lib\\site-packages\\umap\\umap_.py\u001b[0m in \u001b[0;36mfit_transform\u001b[1;34m(self, X, y)\u001b[0m\n\u001b[0;32m   2632\u001b[0m             \u001b[0mLocal\u001b[0m \u001b[0mradii\u001b[0m \u001b[0mof\u001b[0m \u001b[0mdata\u001b[0m \u001b[0mpoints\u001b[0m \u001b[1;32min\u001b[0m \u001b[0mthe\u001b[0m \u001b[0membedding\u001b[0m \u001b[1;33m(\u001b[0m\u001b[0mlog\u001b[0m\u001b[1;33m-\u001b[0m\u001b[0mtransformed\u001b[0m\u001b[1;33m)\u001b[0m\u001b[1;33m.\u001b[0m\u001b[1;33m\u001b[0m\u001b[1;33m\u001b[0m\u001b[0m\n\u001b[0;32m   2633\u001b[0m         \"\"\"\n\u001b[1;32m-> 2634\u001b[1;33m         \u001b[0mself\u001b[0m\u001b[1;33m.\u001b[0m\u001b[0mfit\u001b[0m\u001b[1;33m(\u001b[0m\u001b[0mX\u001b[0m\u001b[1;33m,\u001b[0m \u001b[0my\u001b[0m\u001b[1;33m)\u001b[0m\u001b[1;33m\u001b[0m\u001b[1;33m\u001b[0m\u001b[0m\n\u001b[0m\u001b[0;32m   2635\u001b[0m         \u001b[1;32mif\u001b[0m \u001b[0mself\u001b[0m\u001b[1;33m.\u001b[0m\u001b[0mtransform_mode\u001b[0m \u001b[1;33m==\u001b[0m \u001b[1;34m\"embedding\"\u001b[0m\u001b[1;33m:\u001b[0m\u001b[1;33m\u001b[0m\u001b[1;33m\u001b[0m\u001b[0m\n\u001b[0;32m   2636\u001b[0m             \u001b[1;32mif\u001b[0m \u001b[0mself\u001b[0m\u001b[1;33m.\u001b[0m\u001b[0moutput_dens\u001b[0m\u001b[1;33m:\u001b[0m\u001b[1;33m\u001b[0m\u001b[1;33m\u001b[0m\u001b[0m\n",
      "\u001b[1;32m~\\anaconda3\\lib\\site-packages\\umap\\umap_.py\u001b[0m in \u001b[0;36mfit\u001b[1;34m(self, X, y)\u001b[0m\n\u001b[0;32m   2334\u001b[0m                 \u001b[0mself\u001b[0m\u001b[1;33m.\u001b[0m\u001b[0m_rhos\u001b[0m\u001b[1;33m,\u001b[0m\u001b[1;33m\u001b[0m\u001b[1;33m\u001b[0m\u001b[0m\n\u001b[0;32m   2335\u001b[0m                 \u001b[0mself\u001b[0m\u001b[1;33m.\u001b[0m\u001b[0mgraph_dists_\u001b[0m\u001b[1;33m,\u001b[0m\u001b[1;33m\u001b[0m\u001b[1;33m\u001b[0m\u001b[0m\n\u001b[1;32m-> 2336\u001b[1;33m             \u001b[1;33m)\u001b[0m \u001b[1;33m=\u001b[0m \u001b[0mfuzzy_simplicial_set\u001b[0m\u001b[1;33m(\u001b[0m\u001b[1;33m\u001b[0m\u001b[1;33m\u001b[0m\u001b[0m\n\u001b[0m\u001b[0;32m   2337\u001b[0m                 \u001b[0mdmat\u001b[0m\u001b[1;33m,\u001b[0m\u001b[1;33m\u001b[0m\u001b[1;33m\u001b[0m\u001b[0m\n\u001b[0;32m   2338\u001b[0m                 \u001b[0mself\u001b[0m\u001b[1;33m.\u001b[0m\u001b[0m_n_neighbors\u001b[0m\u001b[1;33m,\u001b[0m\u001b[1;33m\u001b[0m\u001b[1;33m\u001b[0m\u001b[0m\n",
      "\u001b[1;32m~\\anaconda3\\lib\\site-packages\\umap\\umap_.py\u001b[0m in \u001b[0;36mfuzzy_simplicial_set\u001b[1;34m(X, n_neighbors, random_state, metric, metric_kwds, knn_indices, knn_dists, angular, set_op_mix_ratio, local_connectivity, apply_set_operations, verbose, return_dists)\u001b[0m\n\u001b[0;32m    555\u001b[0m     \"\"\"\n\u001b[0;32m    556\u001b[0m     \u001b[1;32mif\u001b[0m \u001b[0mknn_indices\u001b[0m \u001b[1;32mis\u001b[0m \u001b[1;32mNone\u001b[0m \u001b[1;32mor\u001b[0m \u001b[0mknn_dists\u001b[0m \u001b[1;32mis\u001b[0m \u001b[1;32mNone\u001b[0m\u001b[1;33m:\u001b[0m\u001b[1;33m\u001b[0m\u001b[1;33m\u001b[0m\u001b[0m\n\u001b[1;32m--> 557\u001b[1;33m         knn_indices, knn_dists, _ = nearest_neighbors(\n\u001b[0m\u001b[0;32m    558\u001b[0m             \u001b[0mX\u001b[0m\u001b[1;33m,\u001b[0m \u001b[0mn_neighbors\u001b[0m\u001b[1;33m,\u001b[0m \u001b[0mmetric\u001b[0m\u001b[1;33m,\u001b[0m \u001b[0mmetric_kwds\u001b[0m\u001b[1;33m,\u001b[0m \u001b[0mangular\u001b[0m\u001b[1;33m,\u001b[0m \u001b[0mrandom_state\u001b[0m\u001b[1;33m,\u001b[0m \u001b[0mverbose\u001b[0m\u001b[1;33m=\u001b[0m\u001b[0mverbose\u001b[0m\u001b[1;33m,\u001b[0m\u001b[1;33m\u001b[0m\u001b[1;33m\u001b[0m\u001b[0m\n\u001b[0;32m    559\u001b[0m         )\n",
      "\u001b[1;32m~\\anaconda3\\lib\\site-packages\\umap\\umap_.py\u001b[0m in \u001b[0;36mnearest_neighbors\u001b[1;34m(X, n_neighbors, metric, metric_kwds, angular, random_state, low_memory, use_pynndescent, n_jobs, verbose)\u001b[0m\n\u001b[0;32m    311\u001b[0m         \u001b[1;31m# Note that this does not support sparse distance matrices yet ...\u001b[0m\u001b[1;33m\u001b[0m\u001b[1;33m\u001b[0m\u001b[1;33m\u001b[0m\u001b[0m\n\u001b[0;32m    312\u001b[0m         \u001b[1;31m# Compute indices of n nearest neighbors\u001b[0m\u001b[1;33m\u001b[0m\u001b[1;33m\u001b[0m\u001b[1;33m\u001b[0m\u001b[0m\n\u001b[1;32m--> 313\u001b[1;33m         \u001b[0mknn_indices\u001b[0m \u001b[1;33m=\u001b[0m \u001b[0mfast_knn_indices\u001b[0m\u001b[1;33m(\u001b[0m\u001b[0mX\u001b[0m\u001b[1;33m,\u001b[0m \u001b[0mn_neighbors\u001b[0m\u001b[1;33m)\u001b[0m\u001b[1;33m\u001b[0m\u001b[1;33m\u001b[0m\u001b[0m\n\u001b[0m\u001b[0;32m    314\u001b[0m         \u001b[1;31m# knn_indices = np.argsort(X)[:, :n_neighbors]\u001b[0m\u001b[1;33m\u001b[0m\u001b[1;33m\u001b[0m\u001b[1;33m\u001b[0m\u001b[0m\n\u001b[0;32m    315\u001b[0m         \u001b[1;31m# Compute the nearest neighbor distances\u001b[0m\u001b[1;33m\u001b[0m\u001b[1;33m\u001b[0m\u001b[1;33m\u001b[0m\u001b[0m\n",
      "\u001b[1;32m~\\anaconda3\\lib\\site-packages\\numba\\core\\dispatcher.py\u001b[0m in \u001b[0;36m_compile_for_args\u001b[1;34m(self, *args, **kws)\u001b[0m\n\u001b[0;32m    413\u001b[0m                 \u001b[0me\u001b[0m\u001b[1;33m.\u001b[0m\u001b[0mpatch_message\u001b[0m\u001b[1;33m(\u001b[0m\u001b[0mmsg\u001b[0m\u001b[1;33m)\u001b[0m\u001b[1;33m\u001b[0m\u001b[1;33m\u001b[0m\u001b[0m\n\u001b[0;32m    414\u001b[0m \u001b[1;33m\u001b[0m\u001b[0m\n\u001b[1;32m--> 415\u001b[1;33m             \u001b[0merror_rewrite\u001b[0m\u001b[1;33m(\u001b[0m\u001b[0me\u001b[0m\u001b[1;33m,\u001b[0m \u001b[1;34m'typing'\u001b[0m\u001b[1;33m)\u001b[0m\u001b[1;33m\u001b[0m\u001b[1;33m\u001b[0m\u001b[0m\n\u001b[0m\u001b[0;32m    416\u001b[0m         \u001b[1;32mexcept\u001b[0m \u001b[0merrors\u001b[0m\u001b[1;33m.\u001b[0m\u001b[0mUnsupportedError\u001b[0m \u001b[1;32mas\u001b[0m \u001b[0me\u001b[0m\u001b[1;33m:\u001b[0m\u001b[1;33m\u001b[0m\u001b[1;33m\u001b[0m\u001b[0m\n\u001b[0;32m    417\u001b[0m             \u001b[1;31m# Something unsupported is present in the user code, add help info\u001b[0m\u001b[1;33m\u001b[0m\u001b[1;33m\u001b[0m\u001b[1;33m\u001b[0m\u001b[0m\n",
      "\u001b[1;32m~\\anaconda3\\lib\\site-packages\\numba\\core\\dispatcher.py\u001b[0m in \u001b[0;36merror_rewrite\u001b[1;34m(e, issue_type)\u001b[0m\n\u001b[0;32m    356\u001b[0m                 \u001b[1;32mraise\u001b[0m \u001b[0me\u001b[0m\u001b[1;33m\u001b[0m\u001b[1;33m\u001b[0m\u001b[0m\n\u001b[0;32m    357\u001b[0m             \u001b[1;32melse\u001b[0m\u001b[1;33m:\u001b[0m\u001b[1;33m\u001b[0m\u001b[1;33m\u001b[0m\u001b[0m\n\u001b[1;32m--> 358\u001b[1;33m                 \u001b[0mreraise\u001b[0m\u001b[1;33m(\u001b[0m\u001b[0mtype\u001b[0m\u001b[1;33m(\u001b[0m\u001b[0me\u001b[0m\u001b[1;33m)\u001b[0m\u001b[1;33m,\u001b[0m \u001b[0me\u001b[0m\u001b[1;33m,\u001b[0m \u001b[1;32mNone\u001b[0m\u001b[1;33m)\u001b[0m\u001b[1;33m\u001b[0m\u001b[1;33m\u001b[0m\u001b[0m\n\u001b[0m\u001b[0;32m    359\u001b[0m \u001b[1;33m\u001b[0m\u001b[0m\n\u001b[0;32m    360\u001b[0m         \u001b[0margtypes\u001b[0m \u001b[1;33m=\u001b[0m \u001b[1;33m[\u001b[0m\u001b[1;33m]\u001b[0m\u001b[1;33m\u001b[0m\u001b[1;33m\u001b[0m\u001b[0m\n",
      "\u001b[1;32m~\\anaconda3\\lib\\site-packages\\numba\\core\\utils.py\u001b[0m in \u001b[0;36mreraise\u001b[1;34m(tp, value, tb)\u001b[0m\n\u001b[0;32m     78\u001b[0m         \u001b[0mvalue\u001b[0m \u001b[1;33m=\u001b[0m \u001b[0mtp\u001b[0m\u001b[1;33m(\u001b[0m\u001b[1;33m)\u001b[0m\u001b[1;33m\u001b[0m\u001b[1;33m\u001b[0m\u001b[0m\n\u001b[0;32m     79\u001b[0m     \u001b[1;32mif\u001b[0m \u001b[0mvalue\u001b[0m\u001b[1;33m.\u001b[0m\u001b[0m__traceback__\u001b[0m \u001b[1;32mis\u001b[0m \u001b[1;32mnot\u001b[0m \u001b[0mtb\u001b[0m\u001b[1;33m:\u001b[0m\u001b[1;33m\u001b[0m\u001b[1;33m\u001b[0m\u001b[0m\n\u001b[1;32m---> 80\u001b[1;33m         \u001b[1;32mraise\u001b[0m \u001b[0mvalue\u001b[0m\u001b[1;33m.\u001b[0m\u001b[0mwith_traceback\u001b[0m\u001b[1;33m(\u001b[0m\u001b[0mtb\u001b[0m\u001b[1;33m)\u001b[0m\u001b[1;33m\u001b[0m\u001b[1;33m\u001b[0m\u001b[0m\n\u001b[0m\u001b[0;32m     81\u001b[0m     \u001b[1;32mraise\u001b[0m \u001b[0mvalue\u001b[0m\u001b[1;33m\u001b[0m\u001b[1;33m\u001b[0m\u001b[0m\n\u001b[0;32m     82\u001b[0m \u001b[1;33m\u001b[0m\u001b[0m\n",
      "\u001b[1;31mTypingError\u001b[0m: Failed in nopython mode pipeline (step: nopython frontend)\n\u001b[1m\u001b[1m\u001b[1mNo implementation of function Function(<built-in function empty>) found for signature:\n \n >>> empty(Tuple(int64, float64), dtype=class(int32))\n \nThere are 2 candidate implementations:\n\u001b[1m  - Of which 2 did not match due to:\n  Overload of function 'empty': File: numba\\core\\typing\\npydecl.py: Line 504.\n    With argument(s): '(Tuple(int64, float64), dtype=class(int32))':\u001b[0m\n\u001b[1m   No match.\u001b[0m\n\u001b[0m\n\u001b[0m\u001b[1mDuring: resolving callee type: Function(<built-in function empty>)\u001b[0m\n\u001b[0m\u001b[1mDuring: typing of call at C:\\Users\\Wuyue\\anaconda3\\lib\\site-packages\\umap\\utils.py (30)\n\u001b[0m\n\u001b[1m\nFile \"..\\..\\..\\..\\anaconda3\\lib\\site-packages\\umap\\utils.py\", line 30:\u001b[0m\n\u001b[1mdef fast_knn_indices(X, n_neighbors):\n    <source elided>\n    \"\"\"\n\u001b[1m    knn_indices = np.empty((X.shape[0], n_neighbors), dtype=np.int32)\n\u001b[0m    \u001b[1m^\u001b[0m\u001b[0m\n"
     ]
    }
   ],
   "source": [
    "topics = getTopics(df_IN, features_num = 1000, threshold = 0.2, topic_num = 10)"
   ]
  },
  {
   "cell_type": "code",
   "execution_count": null,
   "metadata": {},
   "outputs": [],
   "source": []
  },
  {
   "cell_type": "code",
   "execution_count": 120,
   "metadata": {},
   "outputs": [
    {
     "data": {
      "text/plain": [
       "156"
      ]
     },
     "execution_count": 120,
     "metadata": {},
     "output_type": "execute_result"
    }
   ],
   "source": [
    "import pandas as pd\n",
    "df_tweets=pd.read_csv('works_so_far.csv')\n",
    "df_tweets= df_tweets.query(\"user_city == 'London'\")\n",
    "len(df_tweets)"
   ]
  },
  {
   "cell_type": "code",
   "execution_count": 157,
   "metadata": {},
   "outputs": [
    {
     "name": "stderr",
     "output_type": "stream",
     "text": [
      "[nltk_data] Downloading package punkt to\n",
      "[nltk_data]     C:\\Users\\Wuyue\\AppData\\Roaming\\nltk_data...\n",
      "[nltk_data]   Package punkt is already up-to-date!\n",
      "[nltk_data] Downloading package stopwords to\n",
      "[nltk_data]     C:\\Users\\Wuyue\\AppData\\Roaming\\nltk_data...\n",
      "[nltk_data]   Package stopwords is already up-to-date!\n",
      "[nltk_data] Downloading package vader_lexicon to\n",
      "[nltk_data]     C:\\Users\\Wuyue\\AppData\\Roaming\\nltk_data...\n",
      "[nltk_data]   Package vader_lexicon is already up-to-date!\n",
      "<ipython-input-157-d1359d0b2068>:13: FutureWarning: The default value of regex will change from True to False in a future version.\n",
      "  df_tweets['clean_text'] = df_tweets['text'].str.replace(\"[^a-zA-Z#]\", \" \")\n"
     ]
    },
    {
     "data": {
      "text/html": [
       "<div>\n",
       "<style scoped>\n",
       "    .dataframe tbody tr th:only-of-type {\n",
       "        vertical-align: middle;\n",
       "    }\n",
       "\n",
       "    .dataframe tbody tr th {\n",
       "        vertical-align: top;\n",
       "    }\n",
       "\n",
       "    .dataframe thead th {\n",
       "        text-align: right;\n",
       "    }\n",
       "</style>\n",
       "<table border=\"1\" class=\"dataframe\">\n",
       "  <thead>\n",
       "    <tr style=\"text-align: right;\">\n",
       "      <th></th>\n",
       "      <th>text</th>\n",
       "      <th>clean_text</th>\n",
       "    </tr>\n",
       "  </thead>\n",
       "  <tbody>\n",
       "    <tr>\n",
       "      <th>0</th>\n",
       "      <td>Same folks said daikon paste could treat a cytokine storm #PfizerBioNTech https://t.co/xeHhIMg1kF</td>\n",
       "      <td>Same folks said daikon paste could treat cytokine storm #PfizerBioNTech xeHhIMg kF</td>\n",
       "    </tr>\n",
       "    <tr>\n",
       "      <th>1</th>\n",
       "      <td>While the world has been on the wrong side of history this year, hopefully, the biggest vaccination effort we've ev… https://t.co/dlCHrZjkhm</td>\n",
       "      <td>While world wrong side history year hopefully biggest vaccination effort ev dlCHrZjkhm</td>\n",
       "    </tr>\n",
       "    <tr>\n",
       "      <th>2</th>\n",
       "      <td>#coronavirus #SputnikV #AstraZeneca #PfizerBioNTech #Moderna #Covid_19 Russian vaccine is created to last 2-4 years… https://t.co/ieYlCKBr8P</td>\n",
       "      <td>#coronavirus #SputnikV #AstraZeneca #PfizerBioNTech #Moderna #Covid Russian vaccine created last years ieYlCKBr P</td>\n",
       "    </tr>\n",
       "  </tbody>\n",
       "</table>\n",
       "</div>"
      ],
      "text/plain": [
       "                                                                                                                                           text  \\\n",
       "0                                             Same folks said daikon paste could treat a cytokine storm #PfizerBioNTech https://t.co/xeHhIMg1kF   \n",
       "1  While the world has been on the wrong side of history this year, hopefully, the biggest vaccination effort we've ev… https://t.co/dlCHrZjkhm   \n",
       "2  #coronavirus #SputnikV #AstraZeneca #PfizerBioNTech #Moderna #Covid_19 Russian vaccine is created to last 2-4 years… https://t.co/ieYlCKBr8P   \n",
       "\n",
       "                                                                                                          clean_text  \n",
       "0                                 Same folks said daikon paste could treat cytokine storm #PfizerBioNTech xeHhIMg kF  \n",
       "1                             While world wrong side history year hopefully biggest vaccination effort ev dlCHrZjkhm  \n",
       "2  #coronavirus #SputnikV #AstraZeneca #PfizerBioNTech #Moderna #Covid Russian vaccine created last years ieYlCKBr P  "
      ]
     },
     "execution_count": 157,
     "metadata": {},
     "output_type": "execute_result"
    }
   ],
   "source": [
    "import nltk\n",
    "from nltk.tokenize import word_tokenize\n",
    "from nltk.corpus import stopwords\n",
    "\n",
    "nltk.download('punkt')\n",
    "nltk.download('stopwords')\n",
    "nltk.download('vader_lexicon')\n",
    "\n",
    "stop_words = stopwords.words('english')\n",
    "unwanted_chars = ['.',':',',',\"n't\",\"'ve\",'http','https','co']\n",
    "\n",
    "# removing everything except alphabets\n",
    "df_tweets['clean_text'] = df_tweets['text'].str.replace(\"[^a-zA-Z#]\", \" \")\n",
    "\n",
    "# tokenization\n",
    "tweets = df_tweets['clean_text'].apply(lambda x: x.split())\n",
    "\n",
    "# remove stop-words & unwanted chars and URL components\n",
    "tweets = tweets.apply(lambda x: [item for item in x if item not in stop_words])\n",
    "tweets = tweets.apply(lambda x: [item for item in x if item not in unwanted_chars])\n",
    "\n",
    "# de-tokenization\n",
    "detokenized_tweets = []\n",
    "for i in range(len(df_tweets)):\n",
    "    t = ' '.join(tweets.tolist()[i])\n",
    "    detokenized_tweets.append(t)\n",
    "df_tweets['clean_text'] = detokenized_tweets\n",
    "df_tweets[['text','clean_text']].head(3)\n"
   ]
  },
  {
   "cell_type": "code",
   "execution_count": 123,
   "metadata": {},
   "outputs": [
    {
     "data": {
      "text/plain": [
       "(156, 960)"
      ]
     },
     "execution_count": 123,
     "metadata": {},
     "output_type": "execute_result"
    }
   ],
   "source": [
    "from sklearn.feature_extraction.text import TfidfVectorizer\n",
    "\n",
    "vectorizer = TfidfVectorizer(stop_words='english', \n",
    "                             max_features= 1000, # keep top 1000 terms \n",
    "                             max_df = 0.2, # threshold of ignoring super high frequency words\n",
    "                             smooth_idf=True)\n",
    "\n",
    "X = vectorizer.fit_transform(df_tweets['clean_text'])\n",
    "\n",
    "X.shape # check shape of the document-term matrix"
   ]
  },
  {
   "cell_type": "code",
   "execution_count": 126,
   "metadata": {},
   "outputs": [
    {
     "data": {
      "text/plain": [
       "20"
      ]
     },
     "execution_count": 126,
     "metadata": {},
     "output_type": "execute_result"
    }
   ],
   "source": [
    "from sklearn.decomposition import TruncatedSVD\n",
    "\n",
    "# SVD represent documents and terms in vectors \n",
    "svd_model = TruncatedSVD(n_components=20, algorithm='randomized', n_iter=100, random_state=122)\n",
    "\n",
    "svd_model.fit(X)\n",
    "\n",
    "len(svd_model.components_)"
   ]
  },
  {
   "cell_type": "code",
   "execution_count": 127,
   "metadata": {
    "scrolled": true
   },
   "outputs": [
    {
     "name": "stdout",
     "output_type": "stream",
     "text": [
      "Topic 0: vaccines pfizer moderna uk dose pfizervaccine oxfordastrazeneca \n",
      "Topic 1: moderna vaccines anegpg different hsy mixed oxfordastrazeneca \n",
      "Topic 2: vaccinated americans announces hours trump rollout fzqsmnhoy \n",
      "Topic 3: covidvaccine modernavaccine immune wile long aaj audwp \n",
      "Topic 4: pfizer uk biontech night em contents gprfye \n",
      "Topic 5: pfizervaccine dose second zkwnlikx astrazeneca weeks available \n",
      "Topic 6: astrazeneca johnson uk amp news coronavirus nhs \n",
      "Topic 7: pfizervaccine today pfizercovidvaccine zkwnlikx astrazeneca chose jydkibpbsd \n",
      "Topic 8: uk today vaccination getting news vaccinated week \n",
      "Topic 9: johnson amp shot nhs today dose got \n",
      "Topic 10: effects good news yesterday week day pfizervaccine \n",
      "Topic 11: administered vaccines castle household windsor doctor said \n",
      "Topic 12: eu people medicines approved shot regulator yesterday \n",
      "Topic 13: vaccination imperialnhs yesterday eu uclh hall far \n",
      "Topic 14: grateful patients risk doses healthcare science receive \n",
      "Topic 15: just biontech johnson eu help vaccinated news \n",
      "Topic 16: pfizercovidvaccine covidvaccine eu effects patients chose yesterday \n",
      "Topic 17: got news just trust said anaphylaxis dailymailuk \n",
      "Topic 18: said jab pfizervaccine doctor administered castle household \n",
      "Topic 19: thank science morning data ll arm real \n"
     ]
    }
   ],
   "source": [
    "terms = vectorizer.get_feature_names()\n",
    "topics=[]\n",
    "for i, comp in enumerate(svd_model.components_):\n",
    "    terms_comp = zip(terms, comp)\n",
    "    sorted_terms = sorted(terms_comp, key= lambda x:x[1], reverse=True)[:7]\n",
    "    string = \"Topic \"+str(i)+\": \"\n",
    "    for t in sorted_terms:\n",
    "        string = string + t[0] + ' '\n",
    "    print(string)\n",
    "    topics.append(string)\n",
    "    "
   ]
  },
  {
   "cell_type": "code",
   "execution_count": 128,
   "metadata": {},
   "outputs": [],
   "source": [
    "#!pip install bs4\n",
    "#!pip install requests\n",
    "#!pip install beautifulsoup4\n",
    "#!pip install google\n",
    "#!pip install mechanize"
   ]
  },
  {
   "cell_type": "code",
   "execution_count": 129,
   "metadata": {},
   "outputs": [],
   "source": [
    "import requests \n",
    "from bs4 import BeautifulSoup \n",
    "import time\n",
    "from googlesearch import search \n",
    "from mechanize import Browser "
   ]
  },
  {
   "cell_type": "code",
   "execution_count": 130,
   "metadata": {},
   "outputs": [
    {
     "name": "stdout",
     "output_type": "stream",
     "text": [
      "Covid-19 vaccine: Latest updates on Novavax, Oxford and Pfizer breakthroughs - and who will get it first?\n",
      "data-rh=\"true\">Covid trial in UK examines mixing different vaccines - BBC News\n",
      "Google search results for the  1 -th topic is:\n",
      "<title>Covid-19 vaccine: Latest updates on Novavax, Oxford and Pfizer breakthroughs - and who will get it first?</title>\n",
      "<title data-rh=\"true\">Covid trial in UK examines mixing different vaccines - BBC News</title>\n",
      "Google search results for the  2 -th topic is:\n",
      "<title data-rh=\"true\">Covid trial in UK examines mixing different vaccines - BBC News</title>\n",
      "<title data-rh=\"true\">Oxford/AstraZeneca Covid vaccine 'dose error' explained - BBC News</title>\n",
      "Google search results for the  3 -th topic is:\n",
      "<title>Trump Administration Makes Big Changes To Speed COVID-19 Vaccine Rollout : Shots - Health News : NPR</title>\n",
      "<title data-rh=\"true\">Covid-19: U.S. to Require Negative Virus Tests From International Air Travelers - The New York Times</title>\n",
      "Google search results for the  4 -th topic is:\n",
      "<title data-rh=\"true\">Moderna Vaccine Is Highly Protective and Prevents Severe Covid, Data Show - The New York Times</title>\n",
      "<title data-react-helmet=\"true\">How long does it take for the COVID 19 vaccine to give you immunity? How much protection does it offer? - ABC7 Chicago</title>\n",
      "Google search results for the  5 -th topic is:\n"
     ]
    },
    {
     "ename": "IndexError",
     "evalue": "list index out of range",
     "output_type": "error",
     "traceback": [
      "\u001b[1;31m---------------------------------------------------------------------------\u001b[0m",
      "\u001b[1;31mIndexError\u001b[0m                                Traceback (most recent call last)",
      "\u001b[1;32m<ipython-input-130-e55e3a3679da>\u001b[0m in \u001b[0;36m<module>\u001b[1;34m\u001b[0m\n\u001b[0;32m     22\u001b[0m         \u001b[0msoup\u001b[0m \u001b[1;33m=\u001b[0m \u001b[0mBeautifulSoup\u001b[0m\u001b[1;33m(\u001b[0m\u001b[0mreqs\u001b[0m\u001b[1;33m.\u001b[0m\u001b[0mtext\u001b[0m\u001b[1;33m,\u001b[0m \u001b[1;34m'html.parser'\u001b[0m\u001b[1;33m)\u001b[0m\u001b[1;33m\u001b[0m\u001b[1;33m\u001b[0m\u001b[0m\n\u001b[0;32m     23\u001b[0m         \u001b[1;31m# displaying the title\u001b[0m\u001b[1;33m\u001b[0m\u001b[1;33m\u001b[0m\u001b[1;33m\u001b[0m\u001b[0m\n\u001b[1;32m---> 24\u001b[1;33m         \u001b[0mprint\u001b[0m\u001b[1;33m(\u001b[0m\u001b[0msoup\u001b[0m\u001b[1;33m.\u001b[0m\u001b[0mfind_all\u001b[0m\u001b[1;33m(\u001b[0m\u001b[1;34m'title'\u001b[0m\u001b[1;33m)\u001b[0m\u001b[1;33m[\u001b[0m\u001b[1;36m0\u001b[0m\u001b[1;33m]\u001b[0m\u001b[1;33m)\u001b[0m\u001b[1;33m\u001b[0m\u001b[1;33m\u001b[0m\u001b[0m\n\u001b[0m",
      "\u001b[1;31mIndexError\u001b[0m: list index out of range"
     ]
    }
   ],
   "source": [
    "# to search \n",
    "br = Browser()\n",
    "i = 0\n",
    "for query in topics:\n",
    "    i = i+1\n",
    "    print(\"Google search results for the \", i, \"-th topic is:\") \n",
    "    for url in search(query, tld=\"com\", lang='en',start=0,stop=2, pause=5.0):\n",
    "        time.sleep(10)\n",
    "        # making requests instance \n",
    "        reqs = requests.get(url)\n",
    "        # using the BeaitifulSoup module \n",
    "        soup = BeautifulSoup(reqs.text, 'html.parser')\n",
    "        # displaying the title \n",
    "        print(str(soup.find_all('title')[0])[7:-8])"
   ]
  },
  {
   "cell_type": "code",
   "execution_count": 137,
   "metadata": {},
   "outputs": [
    {
     "name": "stdout",
     "output_type": "stream",
     "text": [
      "[[ 0.14367022 -0.38578963  0.7733266  ... -0.02198769 -0.03550547\n",
      "  -0.04229965]\n",
      " [ 0.1375377  -0.37154007  0.74750107 ... -0.02238934 -0.03631013\n",
      "  -0.04338027]\n",
      " [ 0.07429632 -0.03403726 -0.05558474 ...  0.0240543   0.08292065\n",
      "   0.10736494]\n",
      " ...\n",
      " [ 0.05874533 -0.04240792 -0.02555793 ...  0.17702569 -0.02898272\n",
      "  -0.02922718]\n",
      " [ 0.28850141 -0.12142333 -0.15752826 ... -0.13065203  0.20747118\n",
      "  -0.05007581]\n",
      " [ 0.06127738 -0.03693078 -0.02801544 ... -0.08688544 -0.01660024\n",
      "   0.06584532]]\n"
     ]
    },
    {
     "data": {
      "image/png": "[encoded data removed]",
      "text/plain": [
       "<Figure size 504x360 with 1 Axes>"
      ]
     },
     "metadata": {
      "needs_background": "light"
     },
     "output_type": "display_data"
    }
   ],
   "source": [
    "import umap\n",
    "\n",
    "X_topics = svd_model.fit_transform(X)\n",
    "print(X_topics)\n",
    "embedding = umap.UMAP(n_neighbors=10, min_dist=1, random_state=12).fit_transform(X_topics)\n",
    "\n",
    "plt.figure(figsize=(7,5))\n",
    "plt.scatter(embedding[:, 0], embedding[:, 1], \n",
    "# c = de_tweets['user_city'],\n",
    "s = 5, # size\n",
    "edgecolor='none'\n",
    ")\n",
    "plt.show()"
   ]
  },
  {
   "cell_type": "code",
   "execution_count": null,
   "metadata": {},
   "outputs": [],
   "source": []
  }
 ],
 "metadata": {
  "kernelspec": {
   "display_name": "Python 3",
   "language": "python",
   "name": "python3"
  },
  "language_info": {
   "codemirror_mode": {
    "name": "ipython",
    "version": 3
   },
   "file_extension": ".py",
   "mimetype": "text/x-python",
   "name": "python",
   "nbconvert_exporter": "python",
   "pygments_lexer": "ipython3",
   "version": "3.8.5"
  }
 },
 "nbformat": 4,
 "nbformat_minor": 4
}
