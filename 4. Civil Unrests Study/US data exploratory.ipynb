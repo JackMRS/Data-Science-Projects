{
 "cells": [
  {
   "cell_type": "code",
   "execution_count": 1,
   "metadata": {},
   "outputs": [],
   "source": [
    "import pandas as pd\n",
    "import numpy as np\n",
    "import matplotlib.pyplot as plt\n",
    "import seaborn as sns\n",
    "from scipy import stats\n",
    "import pandas_profiling"
   ]
  },
  {
   "cell_type": "code",
   "execution_count": 2,
   "metadata": {},
   "outputs": [
    {
     "name": "stdout",
     "output_type": "stream",
     "text": [
      "<class 'pandas.core.frame.DataFrame'>\n",
      "RangeIndex: 9987 entries, 0 to 9986\n",
      "Columns: 106 entries, cowcode to property_owner\n",
      "dtypes: float64(55), int64(35), object(16)\n",
      "memory usage: 8.1+ MB\n"
     ]
    }
   ],
   "source": [
    "df = pd.read_csv(\"US Civil Unrest Events.csv\", encoding = \"ISO-8859-1\")\n",
    "df.info()"
   ]
  },
  {
   "cell_type": "code",
   "execution_count": 4,
   "metadata": {},
   "outputs": [
    {
     "data": {
      "application/vnd.jupyter.widget-view+json": {
       "model_id": "3598fe8eb995442c88ccfcd72ac2c6aa",
       "version_major": 2,
       "version_minor": 0
      },
      "text/plain": [
       "HBox(children=(FloatProgress(value=0.0, description='Summarize dataset', max=120.0, style=ProgressStyle(descri…"
      ]
     },
     "metadata": {},
     "output_type": "display_data"
    },
    {
     "name": "stdout",
     "output_type": "stream",
     "text": [
      "\n"
     ]
    },
    {
     "data": {
      "application/vnd.jupyter.widget-view+json": {
       "model_id": "bec8dff005a64a729d31a71b49f3ace2",
       "version_major": 2,
       "version_minor": 0
      },
      "text/plain": [
       "HBox(children=(FloatProgress(value=0.0, description='Generate report structure', max=1.0, style=ProgressStyle(…"
      ]
     },
     "metadata": {},
     "output_type": "display_data"
    },
    {
     "name": "stdout",
     "output_type": "stream",
     "text": [
      "\n"
     ]
    },
    {
     "data": {
      "application/vnd.jupyter.widget-view+json": {
       "model_id": "fa0450e50b094a29b0d8febd3ea22be7",
       "version_major": 2,
       "version_minor": 0
      },
      "text/plain": [
       "HBox(children=(FloatProgress(value=0.0, description='Render HTML', max=1.0, style=ProgressStyle(description_wi…"
      ]
     },
     "metadata": {},
     "output_type": "display_data"
    },
    {
     "name": "stdout",
     "output_type": "stream",
     "text": [
      "\n"
     ]
    },
    {
     "data": {
      "application/vnd.jupyter.widget-view+json": {
       "model_id": "648574975c514264adebb395c5c19dfd",
       "version_major": 2,
       "version_minor": 0
      },
      "text/plain": [
       "HBox(children=(FloatProgress(value=0.0, description='Export report to file', max=1.0, style=ProgressStyle(desc…"
      ]
     },
     "metadata": {},
     "output_type": "display_data"
    },
    {
     "name": "stdout",
     "output_type": "stream",
     "text": [
      "\n"
     ]
    }
   ],
   "source": [
    "result = pandas_profiling.ProfileReport(df)\n",
    "result.to_file(\"./US_result.html\")"
   ]
  },
  {
   "cell_type": "code",
   "execution_count": 21,
   "metadata": {
    "scrolled": false
   },
   "outputs": [],
   "source": [
    "# list(df.columns) "
   ]
  },
  {
   "cell_type": "code",
   "execution_count": 23,
   "metadata": {},
   "outputs": [],
   "source": [
    "save=['month',\n",
    " 'year',\n",
    " 'KNOW_INI',\n",
    " 'INI_TYPE',\n",
    " 'NGOV_I1',\n",
    " 'TAR_TYPE',\n",
    " 'HUMAN_T1',\n",
    " 'HUMAN_V1',\n",
    " 'DATE_TYP',\n",
    " 'day',\n",
    " 'JUL_START_DATE',\n",
    " 'JUL_END_DATE',\n",
    " 'DAY_SPAN',\n",
    " 'N_INJURD',\n",
    " 'TAR_GPOL',\n",
    " 'aid',\n",
    " 'PUB_MON',\n",
    " 'PUB_DATE',\n",
    " 'PUB_YEAR',\n",
    " 'recap',\n",
    " 'NEWS_SOURCE',\n",
    " 'CODE_YEAR',\n",
    " 'CODE_MONTH',\n",
    " 'CODE_DAY',\n",
    " 'event',\n",
    " 'posthoc',\n",
    " 'EV_TYPE',\n",
    " 'linked',\n",
    " 'pinpoint',\n",
    " 'GP3',\n",
    " 'GP4',\n",
    " 'GP7',\n",
    " 'GP8',\n",
    " 'LOC_TYPE',\n",
    " 'AD_VIOL',\n",
    " 'AD_TACT',\n",
    " 'EXP_TYPE',\n",
    " 'ATK_TYPE',\n",
    " 'DSA_TYPE',\n",
    " 'STAT_ACT',\n",
    " 'N_OF_INI_P',\n",
    " 'N_OF_INI_A',\n",
    " 'WEAP_GRD',\n",
    " 'N_KILLED_P',\n",
    " 'N_KILLED_A',\n",
    " 'E_LENGTH',\n",
    " 'N_INJURD_D',\n",
    " 'DAM_PROP',\n",
    " 'arrests',\n",
    " 'PER_ATK_I',\n",
    " 'PER_ATK_E',\n",
    " 'PUB_ORDER',\n",
    " 'retribution',\n",
    " 'AMBIG_WGT',\n",
    " 'SC_ANIMOSITY',\n",
    " 'ANTI_GOV_SENTMNTS',\n",
    " 'CLASS_CONFLICT',\n",
    " 'POL_DESIRES',\n",
    " 'RETAIN_POWER',\n",
    " 'ECO_SCARCITY',\n",
    " 'PERS_SECURITY',\n",
    " 'QUASI_EVENT',\n",
    " 'victim_effect',\n",
    " 'weapon']"
   ]
  },
  {
   "cell_type": "code",
   "execution_count": 18,
   "metadata": {},
   "outputs": [],
   "source": [
    "df_filtered=df[save]"
   ]
  },
  {
   "cell_type": "code",
   "execution_count": 19,
   "metadata": {},
   "outputs": [
    {
     "name": "stderr",
     "output_type": "stream",
     "text": [
      "C:\\Users\\Wuyue\\Anaconda3\\lib\\site-packages\\pandas\\core\\frame.py:4293: SettingWithCopyWarning: \n",
      "A value is trying to be set on a copy of a slice from a DataFrame\n",
      "\n",
      "See the caveats in the documentation: https://pandas.pydata.org/pandas-docs/stable/user_guide/indexing.html#returning-a-view-versus-a-copy\n",
      "  return super().rename(\n"
     ]
    },
    {
     "data": {
      "application/vnd.jupyter.widget-view+json": {
       "model_id": "8657c04c773842de9640ab6b328e6db7",
       "version_major": 2,
       "version_minor": 0
      },
      "text/plain": [
       "HBox(children=(FloatProgress(value=0.0, description='Summarize dataset', max=78.0, style=ProgressStyle(descrip…"
      ]
     },
     "metadata": {},
     "output_type": "display_data"
    },
    {
     "name": "stdout",
     "output_type": "stream",
     "text": [
      "\n"
     ]
    },
    {
     "data": {
      "application/vnd.jupyter.widget-view+json": {
       "model_id": "399798ad90df47d1b1639d586ed26805",
       "version_major": 2,
       "version_minor": 0
      },
      "text/plain": [
       "HBox(children=(FloatProgress(value=0.0, description='Generate report structure', max=1.0, style=ProgressStyle(…"
      ]
     },
     "metadata": {},
     "output_type": "display_data"
    },
    {
     "name": "stdout",
     "output_type": "stream",
     "text": [
      "\n"
     ]
    },
    {
     "data": {
      "application/vnd.jupyter.widget-view+json": {
       "model_id": "7b7df8b19593489eab7a67a1ac40ea3b",
       "version_major": 2,
       "version_minor": 0
      },
      "text/plain": [
       "HBox(children=(FloatProgress(value=0.0, description='Render HTML', max=1.0, style=ProgressStyle(description_wi…"
      ]
     },
     "metadata": {},
     "output_type": "display_data"
    },
    {
     "name": "stdout",
     "output_type": "stream",
     "text": [
      "\n"
     ]
    },
    {
     "data": {
      "application/vnd.jupyter.widget-view+json": {
       "model_id": "89e9d91dbd9c4962a2cbf80d365fb5b2",
       "version_major": 2,
       "version_minor": 0
      },
      "text/plain": [
       "HBox(children=(FloatProgress(value=0.0, description='Export report to file', max=1.0, style=ProgressStyle(desc…"
      ]
     },
     "metadata": {},
     "output_type": "display_data"
    },
    {
     "name": "stdout",
     "output_type": "stream",
     "text": [
      "\n"
     ]
    }
   ],
   "source": [
    "result = pandas_profiling.ProfileReport(df_filtered)\n",
    "result.to_file(\"./US_clean_result_v1.html\")"
   ]
  },
  {
   "cell_type": "code",
   "execution_count": 20,
   "metadata": {},
   "outputs": [],
   "source": [
    "df_filtered.to_csv('Ver 1.1 US Civil Unrest Events.csv', index = False)"
   ]
  },
  {
   "cell_type": "code",
   "execution_count": null,
   "metadata": {},
   "outputs": [],
   "source": []
  }
 ],
 "metadata": {
  "kernelspec": {
   "display_name": "Python 3",
   "language": "python",
   "name": "python3"
  },
  "language_info": {
   "codemirror_mode": {
    "name": "ipython",
    "version": 3
   },
   "file_extension": ".py",
   "mimetype": "text/x-python",
   "name": "python",
   "nbconvert_exporter": "python",
   "pygments_lexer": "ipython3",
   "version": "3.8.5"
  }
 },
 "nbformat": 4,
 "nbformat_minor": 4
}
