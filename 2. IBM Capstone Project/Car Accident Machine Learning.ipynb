{
 "cells": [
  {
   "cell_type": "code",
   "execution_count": 80,
   "metadata": {},
   "outputs": [],
   "source": [
    "# import library\n",
    "import pandas as pd\n",
    "import numpy as np\n",
    "import seaborn as sns\n",
    "import pylab as pl\n",
    "import scipy.optimize as opt\n",
    "from sklearn import preprocessing\n",
    "%matplotlib inline \n",
    "import matplotlib.pyplot as plt"
   ]
  },
  {
   "cell_type": "code",
   "execution_count": 81,
   "metadata": {},
   "outputs": [
    {
     "name": "stderr",
     "output_type": "stream",
     "text": [
      "C:\\Users\\Wuyue\\Anaconda3\\lib\\site-packages\\IPython\\core\\interactiveshell.py:3145: DtypeWarning: Columns (33) have mixed types.Specify dtype option on import or set low_memory=False.\n",
      "  has_raised = await self.run_ast_nodes(code_ast.body, cell_name,\n"
     ]
    }
   ],
   "source": [
    "# read data\n",
    "#path = \"https://s3.us.cloud-object-storage.appdomain.cloud/cf-courses-data/CognitiveClass/DP0701EN/version-2/Data-Collisions.csv\"\n",
    "path=\"Data-Collisions.csv\"\n",
    "df = pd.read_csv(path)"
   ]
  },
  {
   "cell_type": "code",
   "execution_count": 82,
   "metadata": {},
   "outputs": [
    {
     "data": {
      "text/plain": [
       "(194673, 5)"
      ]
     },
     "execution_count": 82,
     "metadata": {},
     "output_type": "execute_result"
    }
   ],
   "source": [
    "# use colums that doesnt have dominating categorial objects\n",
    "acc_df=df[['ADDRTYPE','ROADCOND','WEATHER','LIGHTCOND','SEVERITYCODE']]\n",
    "acc_df.shape"
   ]
  },
  {
   "cell_type": "code",
   "execution_count": 83,
   "metadata": {},
   "outputs": [
    {
     "data": {
      "text/plain": [
       "(194673, 5)"
      ]
     },
     "execution_count": 83,
     "metadata": {},
     "output_type": "execute_result"
    }
   ],
   "source": [
    "acc_df.dropna()\n",
    "acc_df.shape"
   ]
  },
  {
   "cell_type": "code",
   "execution_count": 84,
   "metadata": {},
   "outputs": [
    {
     "name": "stderr",
     "output_type": "stream",
     "text": [
      "<ipython-input-84-659fad21493d>:3: UserWarning: Boolean Series key will be reindexed to match DataFrame index.\n",
      "  acc_df = acc_df[df.WEATHER != \"Unknown\"]\n",
      "<ipython-input-84-659fad21493d>:4: UserWarning: Boolean Series key will be reindexed to match DataFrame index.\n",
      "  acc_df = acc_df[df.LIGHTCOND != \"Unknown\"]\n",
      "<ipython-input-84-659fad21493d>:5: UserWarning: Boolean Series key will be reindexed to match DataFrame index.\n",
      "  acc_df = acc_df[df.ROADCOND != \"Other\"]\n",
      "<ipython-input-84-659fad21493d>:6: UserWarning: Boolean Series key will be reindexed to match DataFrame index.\n",
      "  acc_df = acc_df[df.WEATHER != \"Other\"]\n",
      "<ipython-input-84-659fad21493d>:7: UserWarning: Boolean Series key will be reindexed to match DataFrame index.\n",
      "  acc_df = acc_df[df.LIGHTCOND != \"Other\"]\n"
     ]
    },
    {
     "data": {
      "text/plain": [
       "(175216, 5)"
      ]
     },
     "execution_count": 84,
     "metadata": {},
     "output_type": "execute_result"
    }
   ],
   "source": [
    "# filter out all the unknown rows\n",
    "acc_df = acc_df[df.ROADCOND != \"Unknown\"]\n",
    "acc_df = acc_df[df.WEATHER != \"Unknown\"]\n",
    "acc_df = acc_df[df.LIGHTCOND != \"Unknown\"]\n",
    "acc_df = acc_df[df.ROADCOND != \"Other\"]\n",
    "acc_df = acc_df[df.WEATHER != \"Other\"]\n",
    "acc_df = acc_df[df.LIGHTCOND != \"Other\"]\n",
    "acc_df.shape"
   ]
  },
  {
   "cell_type": "code",
   "execution_count": 85,
   "metadata": {},
   "outputs": [],
   "source": [
    "# convert the colums to numeric values to apply machine learning\n",
    "cleanup_nums = {\"ADDRTYPE\":{\"Block\": 0, \"Intersection\": 1, \"Alley\": 0},\n",
    "                \"ROADCOND\":{\"Dry\": 1,\"Wet\": 0,\"Ice\": 0,\"Snow/Slush\": 0,\"Standing Water\": 0,\"Sand/Mud/Dirt\": 0,\"Oil\": 0},\n",
    "                \"WEATHER\": {\"Clear\": 1, \"Raining\": 0, \"Overcast\": 0, \"Snowing\": 0,\"Fog/Smog/Smoke\": 0, \n",
    "                            \"Sleet/Hail/Freezing Rain\": 0, \"Blowing Sand/Dirt\": 0,\"Severe Crosswind\": 0,\"Partly Cloudy\": 0},\n",
    "                \"LIGHTCOND\": {\"Daylight\": 1,\"Dark - Street Lights On\": 0,\"Dusk\": 0,\"Dawn\": 0,\"Dark - No Street Lights\": 0,\n",
    "                              \"Dark - Street Lights Off\": 0,\"Dark - Unknown Lighting\": 0}}\n",
    "\n"
   ]
  },
  {
   "cell_type": "code",
   "execution_count": 86,
   "metadata": {},
   "outputs": [
    {
     "data": {
      "text/html": [
       "<div>\n",
       "<style scoped>\n",
       "    .dataframe tbody tr th:only-of-type {\n",
       "        vertical-align: middle;\n",
       "    }\n",
       "\n",
       "    .dataframe tbody tr th {\n",
       "        vertical-align: top;\n",
       "    }\n",
       "\n",
       "    .dataframe thead th {\n",
       "        text-align: right;\n",
       "    }\n",
       "</style>\n",
       "<table border=\"1\" class=\"dataframe\">\n",
       "  <thead>\n",
       "    <tr style=\"text-align: right;\">\n",
       "      <th></th>\n",
       "      <th>ADDRTYPE</th>\n",
       "      <th>ROADCOND</th>\n",
       "      <th>WEATHER</th>\n",
       "      <th>LIGHTCOND</th>\n",
       "      <th>SEVERITYCODE</th>\n",
       "    </tr>\n",
       "  </thead>\n",
       "  <tbody>\n",
       "    <tr>\n",
       "      <th>0</th>\n",
       "      <td>1.0</td>\n",
       "      <td>0.0</td>\n",
       "      <td>0.0</td>\n",
       "      <td>1.0</td>\n",
       "      <td>1</td>\n",
       "    </tr>\n",
       "    <tr>\n",
       "      <th>1</th>\n",
       "      <td>0.0</td>\n",
       "      <td>0.0</td>\n",
       "      <td>0.0</td>\n",
       "      <td>0.0</td>\n",
       "      <td>0</td>\n",
       "    </tr>\n",
       "    <tr>\n",
       "      <th>2</th>\n",
       "      <td>0.0</td>\n",
       "      <td>1.0</td>\n",
       "      <td>0.0</td>\n",
       "      <td>1.0</td>\n",
       "      <td>0</td>\n",
       "    </tr>\n",
       "    <tr>\n",
       "      <th>3</th>\n",
       "      <td>0.0</td>\n",
       "      <td>1.0</td>\n",
       "      <td>1.0</td>\n",
       "      <td>1.0</td>\n",
       "      <td>0</td>\n",
       "    </tr>\n",
       "    <tr>\n",
       "      <th>4</th>\n",
       "      <td>1.0</td>\n",
       "      <td>0.0</td>\n",
       "      <td>0.0</td>\n",
       "      <td>1.0</td>\n",
       "      <td>1</td>\n",
       "    </tr>\n",
       "  </tbody>\n",
       "</table>\n",
       "</div>"
      ],
      "text/plain": [
       "   ADDRTYPE  ROADCOND  WEATHER  LIGHTCOND  SEVERITYCODE\n",
       "0       1.0       0.0      0.0        1.0             1\n",
       "1       0.0       0.0      0.0        0.0             0\n",
       "2       0.0       1.0      0.0        1.0             0\n",
       "3       0.0       1.0      1.0        1.0             0\n",
       "4       1.0       0.0      0.0        1.0             1"
      ]
     },
     "execution_count": 86,
     "metadata": {},
     "output_type": "execute_result"
    }
   ],
   "source": [
    "#To convert the columns to numbers using replace :\n",
    "acc_df.replace(cleanup_nums, inplace=True)\n",
    "# since we only have two SEVERITYCODE category, we can convert them into binary code\n",
    "acc_df[\"SEVERITYCODE\"]=acc_df[\"SEVERITYCODE\"]-1\n",
    "acc_df.head()"
   ]
  },
  {
   "cell_type": "code",
   "execution_count": 87,
   "metadata": {},
   "outputs": [
    {
     "data": {
      "text/html": [
       "<div>\n",
       "<style scoped>\n",
       "    .dataframe tbody tr th:only-of-type {\n",
       "        vertical-align: middle;\n",
       "    }\n",
       "\n",
       "    .dataframe tbody tr th {\n",
       "        vertical-align: top;\n",
       "    }\n",
       "\n",
       "    .dataframe thead th {\n",
       "        text-align: right;\n",
       "    }\n",
       "</style>\n",
       "<table border=\"1\" class=\"dataframe\">\n",
       "  <thead>\n",
       "    <tr style=\"text-align: right;\">\n",
       "      <th></th>\n",
       "      <th>Intersection</th>\n",
       "      <th>Dry_Road</th>\n",
       "      <th>Clear_Weather</th>\n",
       "      <th>Daylight</th>\n",
       "      <th>Injure</th>\n",
       "    </tr>\n",
       "  </thead>\n",
       "  <tbody>\n",
       "    <tr>\n",
       "      <th>0</th>\n",
       "      <td>1.0</td>\n",
       "      <td>0.0</td>\n",
       "      <td>0.0</td>\n",
       "      <td>1.0</td>\n",
       "      <td>1</td>\n",
       "    </tr>\n",
       "    <tr>\n",
       "      <th>1</th>\n",
       "      <td>0.0</td>\n",
       "      <td>0.0</td>\n",
       "      <td>0.0</td>\n",
       "      <td>0.0</td>\n",
       "      <td>0</td>\n",
       "    </tr>\n",
       "    <tr>\n",
       "      <th>2</th>\n",
       "      <td>0.0</td>\n",
       "      <td>1.0</td>\n",
       "      <td>0.0</td>\n",
       "      <td>1.0</td>\n",
       "      <td>0</td>\n",
       "    </tr>\n",
       "    <tr>\n",
       "      <th>3</th>\n",
       "      <td>0.0</td>\n",
       "      <td>1.0</td>\n",
       "      <td>1.0</td>\n",
       "      <td>1.0</td>\n",
       "      <td>0</td>\n",
       "    </tr>\n",
       "    <tr>\n",
       "      <th>4</th>\n",
       "      <td>1.0</td>\n",
       "      <td>0.0</td>\n",
       "      <td>0.0</td>\n",
       "      <td>1.0</td>\n",
       "      <td>1</td>\n",
       "    </tr>\n",
       "  </tbody>\n",
       "</table>\n",
       "</div>"
      ],
      "text/plain": [
       "   Intersection  Dry_Road  Clear_Weather  Daylight  Injure\n",
       "0           1.0       0.0            0.0       1.0       1\n",
       "1           0.0       0.0            0.0       0.0       0\n",
       "2           0.0       1.0            0.0       1.0       0\n",
       "3           0.0       1.0            1.0       1.0       0\n",
       "4           1.0       0.0            0.0       1.0       1"
      ]
     },
     "execution_count": 87,
     "metadata": {},
     "output_type": "execute_result"
    }
   ],
   "source": [
    "# lets rename the colums so it makes more sense\n",
    "acc_df.rename(columns={'ADDRTYPE':'Intersection','ROADCOND':'Dry_Road', 'WEATHER':'Clear_Weather','LIGHTCOND':'Daylight','SEVERITYCODE': 'Injure'}, inplace=True)\n",
    "acc_df.head()"
   ]
  },
  {
   "cell_type": "code",
   "execution_count": 88,
   "metadata": {},
   "outputs": [
    {
     "data": {
      "text/plain": [
       "(175216, 5)"
      ]
     },
     "execution_count": 88,
     "metadata": {},
     "output_type": "execute_result"
    }
   ],
   "source": [
    "acc_df.shape"
   ]
  },
  {
   "cell_type": "code",
   "execution_count": 89,
   "metadata": {},
   "outputs": [
    {
     "data": {
      "text/plain": [
       "(175216, 5)"
      ]
     },
     "execution_count": 89,
     "metadata": {},
     "output_type": "execute_result"
    }
   ],
   "source": [
    "acc_df.dropna()\n",
    "acc_df.shape"
   ]
  },
  {
   "cell_type": "code",
   "execution_count": 90,
   "metadata": {},
   "outputs": [],
   "source": [
    "acc_df = acc_df.reset_index()"
   ]
  },
  {
   "cell_type": "code",
   "execution_count": 130,
   "metadata": {},
   "outputs": [],
   "source": [
    "# import tool needed\n",
    "from sklearn.model_selection import train_test_split\n",
    "from sklearn.linear_model import LogisticRegression\n",
    "from sklearn.metrics import confusion_matrix\n",
    "from sklearn.metrics import jaccard_score\n",
    "from sklearn.metrics import f1_score\n",
    "from sklearn.metrics import log_loss\n",
    "from sklearn.neighbors import KNeighborsClassifier\n",
    "from sklearn import preprocessing\n",
    "from sklearn import metrics"
   ]
  },
  {
   "cell_type": "code",
   "execution_count": 131,
   "metadata": {},
   "outputs": [
    {
     "name": "stdout",
     "output_type": "stream",
     "text": [
      "Train set: (105129, 4) (105129,)\n",
      "Test set: (70087, 4) (70087,)\n"
     ]
    }
   ],
   "source": [
    "# Test for different combinations\n",
    "#X=np.array(acc_df[['Intersection']])\n",
    "#X=np.array(acc_df[['Dry_Road']])\n",
    "#X=np.array(acc_df[['Clear_Weather']])\n",
    "#X=np.array(acc_df[['Daylight']])\n",
    "X=np.array(acc_df[['Intersection','Dry_Road','Clear_Weather','Daylight']])\n",
    "X = preprocessing.StandardScaler().fit(X).transform(X)\n",
    "y=np.array(acc_df[\"Injure\"])\n",
    "\n",
    "# split our dataset into train and test set\n",
    "X_train, X_test, y_train, y_test = train_test_split( X, y, test_size=0.4, random_state=5)\n",
    "X_train=np.nan_to_num(X_train)\n",
    "y_train=np.nan_to_num(y_train)\n",
    "X_test=np.nan_to_num(X_test)\n",
    "y_test=np.nan_to_num(y_test)\n",
    "print ('Train set:', X_train.shape,  y_train.shape)\n",
    "print ('Test set:', X_test.shape,  y_test.shape)"
   ]
  },
  {
   "cell_type": "markdown",
   "metadata": {},
   "source": [
    "#Logistics Regression Results\n",
    "\n",
    "\n",
    "#X=np.array(acc_df[['Intersection']])\n",
    "LogLoss: 0.62\n",
    "Avg F1-score: 0.5439\n",
    "Jaccard score: 0.0000\n",
    "              precision    recall  f1-score   support\n",
    "\n",
    "           0       0.67      1.00      0.81     23650\n",
    "           1       0.00      0.00      0.00     11394\n",
    "\n",
    "    accuracy                           0.67     35044\n",
    "   macro avg       0.34      0.50      0.40     35044\n",
    "weighted avg       0.46      0.67      0.54     35044\n",
    "\n",
    "\n",
    "#X=np.array(acc_df[['Dry_Road']])\n",
    "LogLoss: 0.63\n",
    "Avg F1-score: 0.5439\n",
    "Jaccard score: 0.0000\n",
    "              precision    recall  f1-score   support\n",
    "\n",
    "           0       0.67      1.00      0.81     23650\n",
    "           1       0.00      0.00      0.00     11394\n",
    "\n",
    "    accuracy                           0.67     35044\n",
    "   macro avg       0.34      0.50      0.40     35044\n",
    "weighted avg       0.46      0.67      0.54     35044\n",
    "\n",
    "\n",
    "#X=np.array(acc_df[['Clear_Weather']])\n",
    "LogLoss: 0.63\n",
    "Avg F1-score: 0.5439\n",
    "Jaccard score: 0.0000\n",
    "              precision    recall  f1-score   support\n",
    "\n",
    "           0       0.67      1.00      0.81     23650\n",
    "           1       0.00      0.00      0.00     11394\n",
    "\n",
    "    accuracy                           0.67     35044\n",
    "   macro avg       0.34      0.50      0.40     35044\n",
    "weighted avg       0.46      0.67      0.54     35044\n",
    "\n",
    "\n",
    "#X=np.array(acc_df[['Daylight']])\n",
    "LogLoss: 0.63\n",
    "Avg F1-score: 0.5439\n",
    "Jaccard score: 0.0000\n",
    "              precision    recall  f1-score   support\n",
    "\n",
    "           0       0.67      1.00      0.81     23650\n",
    "           1       0.00      0.00      0.00     11394\n",
    "\n",
    "    accuracy                           0.67     35044\n",
    "   macro avg       0.34      0.50      0.40     35044\n",
    "weighted avg       0.46      0.67      0.54     35044\n",
    "\n",
    "\n",
    "#X=np.array(acc_df[['Intersection','Dry_Road','Clear_Weather','Daylight']])\n",
    "LogLoss: 0.61\n",
    "Avg F1-score: 0.5439\n",
    "Jaccard score: 0.0000\n",
    "              precision    recall  f1-score   support\n",
    "\n",
    "           0       0.67      1.00      0.81     23650\n",
    "           1       0.00      0.00      0.00     11394\n",
    "\n",
    "    accuracy                           0.67     35044\n",
    "   macro avg       0.34      0.50      0.40     35044\n",
    "weighted avg       0.46      0.67      0.54     35044"
   ]
  },
  {
   "cell_type": "code",
   "execution_count": 132,
   "metadata": {},
   "outputs": [
    {
     "name": "stdout",
     "output_type": "stream",
     "text": [
      "LogLoss: 0.62\n",
      "Avg F1-score: 0.5432\n",
      "Jaccard score: 0.0000\n",
      "              precision    recall  f1-score   support\n",
      "\n",
      "           0       0.67      1.00      0.81     47266\n",
      "           1       0.00      0.00      0.00     22821\n",
      "\n",
      "    accuracy                           0.67     70087\n",
      "   macro avg       0.34      0.50      0.40     70087\n",
      "weighted avg       0.45      0.67      0.54     70087\n",
      "\n"
     ]
    },
    {
     "name": "stderr",
     "output_type": "stream",
     "text": [
      "C:\\Users\\Wuyue\\Anaconda3\\lib\\site-packages\\sklearn\\metrics\\_classification.py:1221: UndefinedMetricWarning: Precision and F-score are ill-defined and being set to 0.0 in labels with no predicted samples. Use `zero_division` parameter to control this behavior.\n",
      "  _warn_prf(average, modifier, msg_start, len(result))\n"
     ]
    }
   ],
   "source": [
    "# Modeling (Logistic Regression with Scikit-learn)\n",
    "LR = LogisticRegression(C=0.01, solver='liblinear').fit(X_train,y_train)\n",
    "# predict using our test set\n",
    "yhat = LR.predict(X_test)\n",
    "yhat_prob = LR.predict_proba(X_test)\n",
    "\n",
    "# evaluate the model\n",
    "\n",
    "#Jaccard Index\n",
    "LogRJaccard = jaccard_score(y_test, yhat)\n",
    "# F-1 Score\n",
    "LogRF1 = f1_score(y_test, yhat, average='weighted')\n",
    "#Log Loss\n",
    "Logloss = log_loss(y_test, yhat_prob)\n",
    "\n",
    "print(\"LogLoss: %.2f\" % Logloss)\n",
    "print(\"Avg F1-score: %.4f\" % LogRF1)\n",
    "print(\"Jaccard score: %.4f\" % LogRJaccard)\n",
    "\n",
    "from sklearn.metrics import classification_report\n",
    "print (classification_report(y_test, yhat))"
   ]
  },
  {
   "cell_type": "code",
   "execution_count": 133,
   "metadata": {},
   "outputs": [
    {
     "name": "stdout",
     "output_type": "stream",
     "text": [
      "[[    0 22821]\n",
      " [    0 47266]]\n"
     ]
    }
   ],
   "source": [
    "from sklearn.metrics import classification_report, confusion_matrix\n",
    "import itertools\n",
    "def plot_confusion_matrix(cm, classes,\n",
    "                          normalize=False,\n",
    "                          title='Confusion matrix',\n",
    "                          cmap=plt.cm.Blues):\n",
    "    \"\"\"\n",
    "    This function prints and plots the confusion matrix.\n",
    "    Normalization can be applied by setting `normalize=True`.\n",
    "    \"\"\"\n",
    "    if normalize:\n",
    "        cm = cm.astype('float') / cm.sum(axis=1)[:, np.newaxis]\n",
    "        print(\"Normalized confusion matrix\")\n",
    "    else:\n",
    "        print('Confusion matrix, without normalization')\n",
    "\n",
    "    print(cm)\n",
    "\n",
    "    plt.imshow(cm, interpolation='nearest', cmap=cmap)\n",
    "    plt.title(title)\n",
    "    plt.colorbar()\n",
    "    tick_marks = np.arange(len(classes))\n",
    "    plt.xticks(tick_marks, classes, rotation=45)\n",
    "    plt.yticks(tick_marks, classes)\n",
    "\n",
    "    fmt = '.2f' if normalize else 'd'\n",
    "    thresh = cm.max() / 2.\n",
    "    for i, j in itertools.product(range(cm.shape[0]), range(cm.shape[1])):\n",
    "        plt.text(j, i, format(cm[i, j], fmt),\n",
    "                 horizontalalignment=\"center\",\n",
    "                 color=\"white\" if cm[i, j] > thresh else \"black\")\n",
    "\n",
    "    plt.tight_layout()\n",
    "    plt.ylabel('True label')\n",
    "    plt.xlabel('Predicted label')\n",
    "print(confusion_matrix(y_test, yhat, labels=[1,0]))"
   ]
  },
  {
   "cell_type": "code",
   "execution_count": 135,
   "metadata": {},
   "outputs": [
    {
     "name": "stdout",
     "output_type": "stream",
     "text": [
      "Confusion matrix, without normalization\n",
      "[[    0 22821]\n",
      " [    0 47266]]\n"
     ]
    },
    {
     "data": {
      "image/png": "[encoded data removed]",
      "text/plain": [
       "<Figure size 432x288 with 2 Axes>"
      ]
     },
     "metadata": {
      "needs_background": "light"
     },
     "output_type": "display_data"
    }
   ],
   "source": [
    "# Compute confusion matrix\n",
    "cnf_matrix = confusion_matrix(y_test, yhat, labels=[1,0])\n",
    "np.set_printoptions(precision=2)\n",
    "\n",
    "\n",
    "# Plot non-normalized confusion matrix\n",
    "plt.figure()\n",
    "plot_confusion_matrix(cnf_matrix, classes=['injure=1','injure=0'],normalize= False,  title='Confusion matrix')"
   ]
  },
  {
   "cell_type": "code",
   "execution_count": null,
   "metadata": {},
   "outputs": [],
   "source": []
  },
  {
   "cell_type": "code",
   "execution_count": null,
   "metadata": {},
   "outputs": [],
   "source": []
  },
  {
   "cell_type": "markdown",
   "metadata": {},
   "source": [
    "Ks = 25\n",
    "mean_acc = np.zeros((Ks-1))\n",
    "std_acc = np.zeros((Ks-1))\n",
    "ConfustionMx = [];\n",
    "for n in range(1,Ks):\n",
    "    \n",
    "    #Train Model and Predict  \n",
    "    neigh = KNeighborsClassifier(n_neighbors = n).fit(X_train,y_train)\n",
    "    yhat=neigh.predict(X_test)\n",
    "    mean_acc[n-1] = metrics.accuracy_score(y_test, yhat)\n",
    "\n",
    "    \n",
    "    std_acc[n-1]=np.std(yhat==y_test)/np.sqrt(yhat.shape[0])\n",
    "\n",
    "mean_acc\n",
    "\n",
    "plt.plot(range(1,Ks),mean_acc,'g')\n",
    "plt.fill_between(range(1,Ks),mean_acc - 1 * std_acc,mean_acc + 1 * std_acc, alpha=0.10)\n",
    "plt.legend(('Accuracy ', '+/- 3xstd'))\n",
    "plt.ylabel('Accuracy ')\n",
    "plt.xlabel('Number of Nabors (K)')\n",
    "plt.tight_layout()\n",
    "plt.show()\n",
    "\n",
    "print( \"The best accuracy was with\", mean_acc.max(), \"with k=\", mean_acc.argmax()+1)\n"
   ]
  },
  {
   "cell_type": "code",
   "execution_count": 136,
   "metadata": {},
   "outputs": [
    {
     "name": "stdout",
     "output_type": "stream",
     "text": [
      "Train set Accuracy:  0.6587525801634183\n",
      "Test set Accuracy:  0.6579964900766191\n",
      "Jaccard score: 0.1718\n",
      "              precision    recall  f1-score   support\n",
      "\n",
      "           0       0.70      0.87      0.77     47266\n",
      "           1       0.45      0.22      0.29     22821\n",
      "\n",
      "    accuracy                           0.66     70087\n",
      "   macro avg       0.57      0.54      0.53     70087\n",
      "weighted avg       0.62      0.66      0.62     70087\n",
      "\n",
      "Confusion matrix, without normalization\n",
      "[[ 4973 17848]\n",
      " [ 6122 41144]]\n"
     ]
    },
    {
     "data": {
      "image/png": "[encoded data removed]",
      "text/plain": [
       "<Figure size 432x288 with 2 Axes>"
      ]
     },
     "metadata": {
      "needs_background": "light"
     },
     "output_type": "display_data"
    }
   ],
   "source": [
    "k=18\n",
    "neigh = KNeighborsClassifier(n_neighbors = k).fit(X_train,y_train)\n",
    "yhat=neigh.predict(X_test)\n",
    "print(\"Train set Accuracy: \", metrics.accuracy_score(y_train, neigh.predict(X_train)))\n",
    "print(\"Test set Accuracy: \", metrics.accuracy_score(y_test, yhat))\n",
    "LogRJaccard = jaccard_score(y_test, yhat)\n",
    "print(\"Jaccard score: %.4f\" % LogRJaccard)\n",
    "print (classification_report(y_test, yhat))\n",
    "\n",
    "# Compute confusion matrix\n",
    "cnf_matrix = confusion_matrix(y_test, yhat, labels=[1,0])\n",
    "np.set_printoptions(precision=2)\n",
    "\n",
    "\n",
    "# Plot non-normalized confusion matrix\n",
    "plt.figure()\n",
    "plot_confusion_matrix(cnf_matrix, classes=['injure=1','injure=0'],normalize= False,  title='Confusion matrix')"
   ]
  },
  {
   "cell_type": "code",
   "execution_count": 119,
   "metadata": {
    "scrolled": true
   },
   "outputs": [
    {
     "name": "stdout",
     "output_type": "stream",
     "text": [
      "DecisionTrees's Accuracy:  0.6748658828900811\n",
      "              precision    recall  f1-score   support\n",
      "\n",
      "           0       0.67      1.00      0.81     23650\n",
      "           1       0.00      0.00      0.00     11394\n",
      "\n",
      "    accuracy                           0.67     35044\n",
      "   macro avg       0.34      0.50      0.40     35044\n",
      "weighted avg       0.46      0.67      0.54     35044\n",
      "\n"
     ]
    },
    {
     "name": "stderr",
     "output_type": "stream",
     "text": [
      "C:\\Users\\Wuyue\\Anaconda3\\lib\\site-packages\\sklearn\\metrics\\_classification.py:1221: UndefinedMetricWarning: Precision and F-score are ill-defined and being set to 0.0 in labels with no predicted samples. Use `zero_division` parameter to control this behavior.\n",
      "  _warn_prf(average, modifier, msg_start, len(result))\n"
     ]
    }
   ],
   "source": [
    "# now we try decision tree\n",
    "\n",
    "#modeling\n",
    "from sklearn.tree import DecisionTreeClassifier\n",
    "drugTree = DecisionTreeClassifier(criterion=\"entropy\", max_depth = 5)\n",
    "\n",
    "# train the model\n",
    "drugTree.fit(X_train,y_train)\n",
    "\n",
    "# make predictions\n",
    "predTree = drugTree.predict(X_test)\n",
    "\n",
    "# evaluation\n",
    "print(\"DecisionTrees's Accuracy: \", metrics.accuracy_score(y_test, predTree))\n",
    "print (classification_report(y_test, predTree))"
   ]
  },
  {
   "cell_type": "code",
   "execution_count": null,
   "metadata": {},
   "outputs": [],
   "source": []
  },
  {
   "cell_type": "code",
   "execution_count": 128,
   "metadata": {},
   "outputs": [],
   "source": [
    "from sklearn import svm\n",
    "clf = svm.SVC(kernel='rbf')\n",
    "clf.fit(X_train, y_train) \n",
    "yhat2 = clf.predict(X_test)"
   ]
  },
  {
   "cell_type": "code",
   "execution_count": 129,
   "metadata": {},
   "outputs": [
    {
     "name": "stdout",
     "output_type": "stream",
     "text": [
      "Avg F1-score: 0.5432\n",
      "Jaccard score: 0.0000\n"
     ]
    }
   ],
   "source": [
    "print(\"Avg F1-score: %.4f\" % f1_score(y_test, yhat2, average='weighted'))\n",
    "print(\"Jaccard score: %.4f\" % jaccard_score(y_test, yhat2))"
   ]
  }
 ],
 "metadata": {
  "kernelspec": {
   "display_name": "Python 3",
   "language": "python",
   "name": "python3"
  },
  "language_info": {
   "codemirror_mode": {
    "name": "ipython",
    "version": 3
   },
   "file_extension": ".py",
   "mimetype": "text/x-python",
   "name": "python",
   "nbconvert_exporter": "python",
   "pygments_lexer": "ipython3",
   "version": "3.8.5"
  }
 },
 "nbformat": 4,
 "nbformat_minor": 4
}
